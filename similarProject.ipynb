{
  "cells": [
    {
      "cell_type": "markdown",
      "metadata": {
        "id": "view-in-github",
        "colab_type": "text"
      },
      "source": [
        "<a href=\"https://colab.research.google.com/github/omarDrame/KaggleCompetition/blob/main/similarProject.ipynb\" target=\"_parent\"><img src=\"https://colab.research.google.com/assets/colab-badge.svg\" alt=\"Open In Colab\"/></a>"
      ]
    },
    {
      "cell_type": "markdown",
      "source": [
        "# Basic regresssion tools"
      ],
      "metadata": {
        "id": "086ADG-ADqmz"
      }
    },
    {
      "cell_type": "markdown",
      "source": [
        "This project is similar to the compete.ipynb, the data set is also a simple tabular csv file found on Kaggle"
      ],
      "metadata": {
        "id": "I5a7Ww5Df8A7"
      }
    },
    {
      "cell_type": "markdown",
      "source": [
        "**Motivation** : I decided to use some regression tools on this data to get more familiar with some theorical classes I had on machine learning, the data set is quite simple it is from Kaggle.\n",
        "\n",
        "**Goal**  : Predict the **price** of houses."
      ],
      "metadata": {
        "id": "-x3viUM8E9Rq"
      }
    },
    {
      "cell_type": "markdown",
      "metadata": {
        "id": "AOjUVAOfL4cw"
      },
      "source": [
        "# Imports"
      ]
    },
    {
      "cell_type": "code",
      "execution_count": null,
      "metadata": {
        "id": "cwcz1yXjaZRt"
      },
      "outputs": [],
      "source": [
        "# pip install optuna"
      ]
    },
    {
      "cell_type": "code",
      "execution_count": 2,
      "metadata": {
        "id": "maAPC1DMkviF",
        "scrolled": true
      },
      "outputs": [],
      "source": [
        "%matplotlib inline\n",
        "import numpy as np\n",
        "import matplotlib.pyplot as plt\n",
        "import seaborn as sns; sns.set()\n",
        "import pandas as pd\n",
        "from sklearn.preprocessing import StandardScaler, OneHotEncoder, LabelEncoder\n",
        "from sklearn.impute import SimpleImputer\n",
        "from sklearn.pipeline import make_pipeline\n",
        "from sklearn.compose import make_column_transformer\n",
        "from sklearn.preprocessing import StandardScaler\n",
        "from sklearn.metrics import mean_squared_error\n",
        "from math import sqrt\n",
        "from sklearn.metrics import r2_score\n",
        "from itertools import combinations\n",
        "from sklearn.model_selection import KFold\n",
        "from sklearn.linear_model import LinearRegression\n",
        "from sklearn.model_selection import train_test_split\n",
        "from sklearn.model_selection import cross_val_score, KFold\n",
        "from sklearn.neighbors import KNeighborsRegressor\n",
        "from sklearn.tree import DecisionTreeRegressor\n",
        "from sklearn.ensemble import RandomForestRegressor\n",
        "import xgboost as xgb \n",
        "import lightgbm as lgbm\n",
        "import optuna"
      ]
    },
    {
      "cell_type": "code",
      "execution_count": 3,
      "metadata": {
        "colab": {
          "base_uri": "https://localhost:8080/"
        },
        "id": "5vlbPheWKur6",
        "outputId": "4dfa593c-e019-4f96-d4c3-d1012c21c884"
      },
      "outputs": [
        {
          "output_type": "stream",
          "name": "stdout",
          "text": [
            "Drive already mounted at /content/drive; to attempt to forcibly remount, call drive.mount(\"/content/drive\", force_remount=True).\n"
          ]
        }
      ],
      "source": [
        "from google.colab import drive\n",
        "drive.mount('/content/drive')\n"
      ]
    },
    {
      "cell_type": "code",
      "execution_count": 4,
      "metadata": {
        "colab": {
          "base_uri": "https://localhost:8080/"
        },
        "id": "HqxPLFynbDu8",
        "outputId": "fb083b64-cea0-41ce-8270-26cf2408455e"
      },
      "outputs": [
        {
          "output_type": "stream",
          "name": "stdout",
          "text": [
            "The data set contains 21 variables and 21613 observations\n",
            "<class 'pandas.core.frame.DataFrame'>\n",
            "RangeIndex: 21613 entries, 0 to 21612\n",
            "Data columns (total 21 columns):\n",
            " #   Column         Non-Null Count  Dtype  \n",
            "---  ------         --------------  -----  \n",
            " 0   id             21613 non-null  int64  \n",
            " 1   date           21613 non-null  object \n",
            " 2   price          21613 non-null  float64\n",
            " 3   bedrooms       21613 non-null  int64  \n",
            " 4   bathrooms      21613 non-null  float64\n",
            " 5   sqft_living    21613 non-null  int64  \n",
            " 6   sqft_lot       21613 non-null  int64  \n",
            " 7   floors         21613 non-null  float64\n",
            " 8   waterfront     21613 non-null  int64  \n",
            " 9   view           21613 non-null  int64  \n",
            " 10  condition      21613 non-null  int64  \n",
            " 11  grade          21613 non-null  int64  \n",
            " 12  sqft_above     21613 non-null  int64  \n",
            " 13  sqft_basement  21613 non-null  int64  \n",
            " 14  yr_built       21613 non-null  int64  \n",
            " 15  yr_renovated   21613 non-null  int64  \n",
            " 16  zipcode        21613 non-null  int64  \n",
            " 17  lat            21613 non-null  float64\n",
            " 18  long           21613 non-null  float64\n",
            " 19  sqft_living15  21613 non-null  int64  \n",
            " 20  sqft_lot15     21613 non-null  int64  \n",
            "dtypes: float64(5), int64(15), object(1)\n",
            "memory usage: 3.5+ MB\n"
          ]
        }
      ],
      "source": [
        "data = pd.read_csv('/content/drive/My Drive/Dev/ML/Housing/raw_data.csv',  header=0,encoding='latin1')\n",
        "target = 'price'\n",
        "print(f'The data set contains {data.shape[1]} variables and {data.shape[0]} observations')\n",
        "data.info()"
      ]
    },
    {
      "cell_type": "markdown",
      "source": [
        "We can extract the features"
      ],
      "metadata": {
        "id": "gsbk9MfSGFtM"
      }
    },
    {
      "cell_type": "code",
      "execution_count": 5,
      "metadata": {
        "colab": {
          "base_uri": "https://localhost:8080/"
        },
        "id": "tzzIVD6ObHZz",
        "outputId": "ab144b60-5229-42e7-e832-660fc68bdecf"
      },
      "outputs": [
        {
          "output_type": "execute_result",
          "data": {
            "text/plain": [
              "['bedrooms',\n",
              " 'bathrooms',\n",
              " 'sqft_living',\n",
              " 'sqft_lot',\n",
              " 'floors',\n",
              " 'waterfront',\n",
              " 'view',\n",
              " 'condition',\n",
              " 'grade',\n",
              " 'sqft_above',\n",
              " 'sqft_basement',\n",
              " 'yr_built',\n",
              " 'yr_renovated',\n",
              " 'zipcode',\n",
              " 'lat',\n",
              " 'long',\n",
              " 'sqft_living15',\n",
              " 'sqft_lot15']"
            ]
          },
          "metadata": {},
          "execution_count": 5
        }
      ],
      "source": [
        "features = [feature for feature in data.columns if feature not in ['id',target,'date']]\n",
        "features"
      ]
    },
    {
      "cell_type": "code",
      "execution_count": 6,
      "metadata": {
        "id": "KzThw31Rc2up"
      },
      "outputs": [],
      "source": [
        "# Categorical features\n",
        "features_cat = ['waterfront',\n",
        " 'view',\n",
        " 'condition',\n",
        " 'grade',\n",
        " 'zipcode',\n",
        " 'yr_built',\n",
        " 'yr_renovated']\n",
        "\n",
        "# Numerical features\n",
        "features_num = [\n",
        " 'bedrooms',\n",
        " 'bathrooms',\n",
        " 'sqft_living',\n",
        " 'sqft_lot',\n",
        " 'sqft_above',\n",
        " 'floors',\n",
        " 'sqft_basement',\n",
        " 'lat',\n",
        " 'long',\n",
        " 'sqft_living15',\n",
        " 'sqft_lot15']"
      ]
    },
    {
      "cell_type": "code",
      "execution_count": 7,
      "metadata": {
        "colab": {
          "base_uri": "https://localhost:8080/",
          "height": 236
        },
        "id": "vlJzRAZIbK5q",
        "outputId": "f063f887-42ad-4e6a-bfdd-c49ef0c1f5b9"
      },
      "outputs": [
        {
          "output_type": "execute_result",
          "data": {
            "text/plain": [
              "           id             date     price  bedrooms  bathrooms  sqft_living  \\\n",
              "0  7129300520  20141013T000000  221900.0         3       1.00         1180   \n",
              "1  6414100192  20141209T000000  538000.0         3       2.25         2570   \n",
              "2  5631500400  20150225T000000  180000.0         2       1.00          770   \n",
              "3  2487200875  20141209T000000  604000.0         4       3.00         1960   \n",
              "4  1954400510  20150218T000000  510000.0         3       2.00         1680   \n",
              "\n",
              "   sqft_lot  floors  waterfront  view  ...  grade  sqft_above  sqft_basement  \\\n",
              "0      5650     1.0           0     0  ...      7        1180              0   \n",
              "1      7242     2.0           0     0  ...      7        2170            400   \n",
              "2     10000     1.0           0     0  ...      6         770              0   \n",
              "3      5000     1.0           0     0  ...      7        1050            910   \n",
              "4      8080     1.0           0     0  ...      8        1680              0   \n",
              "\n",
              "   yr_built  yr_renovated  zipcode      lat     long  sqft_living15  \\\n",
              "0      1955             0    98178  47.5112 -122.257           1340   \n",
              "1      1951          1991    98125  47.7210 -122.319           1690   \n",
              "2      1933             0    98028  47.7379 -122.233           2720   \n",
              "3      1965             0    98136  47.5208 -122.393           1360   \n",
              "4      1987             0    98074  47.6168 -122.045           1800   \n",
              "\n",
              "   sqft_lot15  \n",
              "0        5650  \n",
              "1        7639  \n",
              "2        8062  \n",
              "3        5000  \n",
              "4        7503  \n",
              "\n",
              "[5 rows x 21 columns]"
            ],
            "text/html": [
              "\n",
              "  <div id=\"df-6735de17-526d-4bfe-a045-2c4ed0af3671\">\n",
              "    <div class=\"colab-df-container\">\n",
              "      <div>\n",
              "<style scoped>\n",
              "    .dataframe tbody tr th:only-of-type {\n",
              "        vertical-align: middle;\n",
              "    }\n",
              "\n",
              "    .dataframe tbody tr th {\n",
              "        vertical-align: top;\n",
              "    }\n",
              "\n",
              "    .dataframe thead th {\n",
              "        text-align: right;\n",
              "    }\n",
              "</style>\n",
              "<table border=\"1\" class=\"dataframe\">\n",
              "  <thead>\n",
              "    <tr style=\"text-align: right;\">\n",
              "      <th></th>\n",
              "      <th>id</th>\n",
              "      <th>date</th>\n",
              "      <th>price</th>\n",
              "      <th>bedrooms</th>\n",
              "      <th>bathrooms</th>\n",
              "      <th>sqft_living</th>\n",
              "      <th>sqft_lot</th>\n",
              "      <th>floors</th>\n",
              "      <th>waterfront</th>\n",
              "      <th>view</th>\n",
              "      <th>...</th>\n",
              "      <th>grade</th>\n",
              "      <th>sqft_above</th>\n",
              "      <th>sqft_basement</th>\n",
              "      <th>yr_built</th>\n",
              "      <th>yr_renovated</th>\n",
              "      <th>zipcode</th>\n",
              "      <th>lat</th>\n",
              "      <th>long</th>\n",
              "      <th>sqft_living15</th>\n",
              "      <th>sqft_lot15</th>\n",
              "    </tr>\n",
              "  </thead>\n",
              "  <tbody>\n",
              "    <tr>\n",
              "      <th>0</th>\n",
              "      <td>7129300520</td>\n",
              "      <td>20141013T000000</td>\n",
              "      <td>221900.0</td>\n",
              "      <td>3</td>\n",
              "      <td>1.00</td>\n",
              "      <td>1180</td>\n",
              "      <td>5650</td>\n",
              "      <td>1.0</td>\n",
              "      <td>0</td>\n",
              "      <td>0</td>\n",
              "      <td>...</td>\n",
              "      <td>7</td>\n",
              "      <td>1180</td>\n",
              "      <td>0</td>\n",
              "      <td>1955</td>\n",
              "      <td>0</td>\n",
              "      <td>98178</td>\n",
              "      <td>47.5112</td>\n",
              "      <td>-122.257</td>\n",
              "      <td>1340</td>\n",
              "      <td>5650</td>\n",
              "    </tr>\n",
              "    <tr>\n",
              "      <th>1</th>\n",
              "      <td>6414100192</td>\n",
              "      <td>20141209T000000</td>\n",
              "      <td>538000.0</td>\n",
              "      <td>3</td>\n",
              "      <td>2.25</td>\n",
              "      <td>2570</td>\n",
              "      <td>7242</td>\n",
              "      <td>2.0</td>\n",
              "      <td>0</td>\n",
              "      <td>0</td>\n",
              "      <td>...</td>\n",
              "      <td>7</td>\n",
              "      <td>2170</td>\n",
              "      <td>400</td>\n",
              "      <td>1951</td>\n",
              "      <td>1991</td>\n",
              "      <td>98125</td>\n",
              "      <td>47.7210</td>\n",
              "      <td>-122.319</td>\n",
              "      <td>1690</td>\n",
              "      <td>7639</td>\n",
              "    </tr>\n",
              "    <tr>\n",
              "      <th>2</th>\n",
              "      <td>5631500400</td>\n",
              "      <td>20150225T000000</td>\n",
              "      <td>180000.0</td>\n",
              "      <td>2</td>\n",
              "      <td>1.00</td>\n",
              "      <td>770</td>\n",
              "      <td>10000</td>\n",
              "      <td>1.0</td>\n",
              "      <td>0</td>\n",
              "      <td>0</td>\n",
              "      <td>...</td>\n",
              "      <td>6</td>\n",
              "      <td>770</td>\n",
              "      <td>0</td>\n",
              "      <td>1933</td>\n",
              "      <td>0</td>\n",
              "      <td>98028</td>\n",
              "      <td>47.7379</td>\n",
              "      <td>-122.233</td>\n",
              "      <td>2720</td>\n",
              "      <td>8062</td>\n",
              "    </tr>\n",
              "    <tr>\n",
              "      <th>3</th>\n",
              "      <td>2487200875</td>\n",
              "      <td>20141209T000000</td>\n",
              "      <td>604000.0</td>\n",
              "      <td>4</td>\n",
              "      <td>3.00</td>\n",
              "      <td>1960</td>\n",
              "      <td>5000</td>\n",
              "      <td>1.0</td>\n",
              "      <td>0</td>\n",
              "      <td>0</td>\n",
              "      <td>...</td>\n",
              "      <td>7</td>\n",
              "      <td>1050</td>\n",
              "      <td>910</td>\n",
              "      <td>1965</td>\n",
              "      <td>0</td>\n",
              "      <td>98136</td>\n",
              "      <td>47.5208</td>\n",
              "      <td>-122.393</td>\n",
              "      <td>1360</td>\n",
              "      <td>5000</td>\n",
              "    </tr>\n",
              "    <tr>\n",
              "      <th>4</th>\n",
              "      <td>1954400510</td>\n",
              "      <td>20150218T000000</td>\n",
              "      <td>510000.0</td>\n",
              "      <td>3</td>\n",
              "      <td>2.00</td>\n",
              "      <td>1680</td>\n",
              "      <td>8080</td>\n",
              "      <td>1.0</td>\n",
              "      <td>0</td>\n",
              "      <td>0</td>\n",
              "      <td>...</td>\n",
              "      <td>8</td>\n",
              "      <td>1680</td>\n",
              "      <td>0</td>\n",
              "      <td>1987</td>\n",
              "      <td>0</td>\n",
              "      <td>98074</td>\n",
              "      <td>47.6168</td>\n",
              "      <td>-122.045</td>\n",
              "      <td>1800</td>\n",
              "      <td>7503</td>\n",
              "    </tr>\n",
              "  </tbody>\n",
              "</table>\n",
              "<p>5 rows × 21 columns</p>\n",
              "</div>\n",
              "      <button class=\"colab-df-convert\" onclick=\"convertToInteractive('df-6735de17-526d-4bfe-a045-2c4ed0af3671')\"\n",
              "              title=\"Convert this dataframe to an interactive table.\"\n",
              "              style=\"display:none;\">\n",
              "        \n",
              "  <svg xmlns=\"http://www.w3.org/2000/svg\" height=\"24px\"viewBox=\"0 0 24 24\"\n",
              "       width=\"24px\">\n",
              "    <path d=\"M0 0h24v24H0V0z\" fill=\"none\"/>\n",
              "    <path d=\"M18.56 5.44l.94 2.06.94-2.06 2.06-.94-2.06-.94-.94-2.06-.94 2.06-2.06.94zm-11 1L8.5 8.5l.94-2.06 2.06-.94-2.06-.94L8.5 2.5l-.94 2.06-2.06.94zm10 10l.94 2.06.94-2.06 2.06-.94-2.06-.94-.94-2.06-.94 2.06-2.06.94z\"/><path d=\"M17.41 7.96l-1.37-1.37c-.4-.4-.92-.59-1.43-.59-.52 0-1.04.2-1.43.59L10.3 9.45l-7.72 7.72c-.78.78-.78 2.05 0 2.83L4 21.41c.39.39.9.59 1.41.59.51 0 1.02-.2 1.41-.59l7.78-7.78 2.81-2.81c.8-.78.8-2.07 0-2.86zM5.41 20L4 18.59l7.72-7.72 1.47 1.35L5.41 20z\"/>\n",
              "  </svg>\n",
              "      </button>\n",
              "      \n",
              "  <style>\n",
              "    .colab-df-container {\n",
              "      display:flex;\n",
              "      flex-wrap:wrap;\n",
              "      gap: 12px;\n",
              "    }\n",
              "\n",
              "    .colab-df-convert {\n",
              "      background-color: #E8F0FE;\n",
              "      border: none;\n",
              "      border-radius: 50%;\n",
              "      cursor: pointer;\n",
              "      display: none;\n",
              "      fill: #1967D2;\n",
              "      height: 32px;\n",
              "      padding: 0 0 0 0;\n",
              "      width: 32px;\n",
              "    }\n",
              "\n",
              "    .colab-df-convert:hover {\n",
              "      background-color: #E2EBFA;\n",
              "      box-shadow: 0px 1px 2px rgba(60, 64, 67, 0.3), 0px 1px 3px 1px rgba(60, 64, 67, 0.15);\n",
              "      fill: #174EA6;\n",
              "    }\n",
              "\n",
              "    [theme=dark] .colab-df-convert {\n",
              "      background-color: #3B4455;\n",
              "      fill: #D2E3FC;\n",
              "    }\n",
              "\n",
              "    [theme=dark] .colab-df-convert:hover {\n",
              "      background-color: #434B5C;\n",
              "      box-shadow: 0px 1px 3px 1px rgba(0, 0, 0, 0.15);\n",
              "      filter: drop-shadow(0px 1px 2px rgba(0, 0, 0, 0.3));\n",
              "      fill: #FFFFFF;\n",
              "    }\n",
              "  </style>\n",
              "\n",
              "      <script>\n",
              "        const buttonEl =\n",
              "          document.querySelector('#df-6735de17-526d-4bfe-a045-2c4ed0af3671 button.colab-df-convert');\n",
              "        buttonEl.style.display =\n",
              "          google.colab.kernel.accessAllowed ? 'block' : 'none';\n",
              "\n",
              "        async function convertToInteractive(key) {\n",
              "          const element = document.querySelector('#df-6735de17-526d-4bfe-a045-2c4ed0af3671');\n",
              "          const dataTable =\n",
              "            await google.colab.kernel.invokeFunction('convertToInteractive',\n",
              "                                                     [key], {});\n",
              "          if (!dataTable) return;\n",
              "\n",
              "          const docLinkHtml = 'Like what you see? Visit the ' +\n",
              "            '<a target=\"_blank\" href=https://colab.research.google.com/notebooks/data_table.ipynb>data table notebook</a>'\n",
              "            + ' to learn more about interactive tables.';\n",
              "          element.innerHTML = '';\n",
              "          dataTable['output_type'] = 'display_data';\n",
              "          await google.colab.output.renderOutput(dataTable, element);\n",
              "          const docLink = document.createElement('div');\n",
              "          docLink.innerHTML = docLinkHtml;\n",
              "          element.appendChild(docLink);\n",
              "        }\n",
              "      </script>\n",
              "    </div>\n",
              "  </div>\n",
              "  "
            ]
          },
          "metadata": {},
          "execution_count": 7
        }
      ],
      "source": [
        "data.head()"
      ]
    },
    {
      "cell_type": "markdown",
      "metadata": {
        "id": "80JbEFaZmyEu"
      },
      "source": [
        "# Visualization"
      ]
    },
    {
      "cell_type": "code",
      "execution_count": 8,
      "metadata": {
        "colab": {
          "base_uri": "https://localhost:8080/"
        },
        "id": "nQCHivZ9G-JU",
        "outputId": "e956c398-8a78-4378-a845-54f4ac718ecc"
      },
      "outputs": [
        {
          "output_type": "stream",
          "name": "stdout",
          "text": [
            "size 453873\n",
            "shape (21613, 21)\n"
          ]
        }
      ],
      "source": [
        "print(\"size\", data.size)\n",
        "print(\"shape\", data.shape)"
      ]
    },
    {
      "cell_type": "markdown",
      "metadata": {
        "id": "o1cg7F3PmLGt"
      },
      "source": [
        "## Feature distribution"
      ]
    },
    {
      "cell_type": "markdown",
      "source": [],
      "metadata": {
        "id": "u3xppiNQGUZT"
      }
    },
    {
      "cell_type": "code",
      "execution_count": 9,
      "metadata": {
        "colab": {
          "base_uri": "https://localhost:8080/",
          "height": 1000
        },
        "id": "Y4cfQtKdly2K",
        "outputId": "6f47383c-1163-46b8-c6df-dd886aaa6480"
      },
      "outputs": [
        {
          "output_type": "display_data",
          "data": {
            "text/plain": [
              "<Figure size 1440x1440 with 20 Axes>"
            ],
            "image/png": "[encoded data removed]"
          },
          "metadata": {}
        }
      ],
      "source": [
        "\n",
        "fig, axs = plt.subplots(5,4, figsize=(20,20))\n",
        "\n",
        "for f, ax in zip(features,axs.ravel()):\n",
        "    sns.histplot(data, x=f, ax=ax)\n",
        "plt.show()\n"
      ]
    },
    {
      "cell_type": "markdown",
      "metadata": {
        "id": "guWkorhZmNQp"
      },
      "source": [
        "## Target distribution"
      ]
    },
    {
      "cell_type": "markdown",
      "source": [
        "The differences in price are quite huge, to reduce the impact of the bigger value we’re going to use a log  transformation. We see that the distribution is much more balanced."
      ],
      "metadata": {
        "id": "RXt3GPfdG8dg"
      }
    },
    {
      "cell_type": "code",
      "source": [
        "# print(f'The most expensive {data[target].max()}')"
      ],
      "metadata": {
        "id": "bDVfnsFFHLjw"
      },
      "execution_count": 10,
      "outputs": []
    },
    {
      "cell_type": "code",
      "execution_count": 11,
      "metadata": {
        "colab": {
          "base_uri": "https://localhost:8080/",
          "height": 356
        },
        "id": "wZIUsJjhmI6W",
        "outputId": "76257e14-bab6-4634-a47e-94f7559836de"
      },
      "outputs": [
        {
          "output_type": "execute_result",
          "data": {
            "text/plain": [
              "<AxesSubplot:xlabel='price', ylabel='Count'>"
            ]
          },
          "metadata": {},
          "execution_count": 11
        },
        {
          "output_type": "display_data",
          "data": {
            "text/plain": [
              "<Figure size 360x360 with 1 Axes>"
            ],
            "image/png": "[encoded data removed]"
          },
          "metadata": {}
        }
      ],
      "source": [
        "fig, ax = plt.subplots( figsize=(5,5))\n",
        "sns.histplot(data, x='price', ax=ax)\n"
      ]
    },
    {
      "cell_type": "code",
      "execution_count": 12,
      "metadata": {
        "colab": {
          "base_uri": "https://localhost:8080/",
          "height": 356
        },
        "id": "d4v1MBGpOGya",
        "outputId": "5a4c3b59-8e31-4cce-e4fa-aa823b9cef66"
      },
      "outputs": [
        {
          "output_type": "execute_result",
          "data": {
            "text/plain": [
              "<AxesSubplot:xlabel='price', ylabel='Count'>"
            ]
          },
          "metadata": {},
          "execution_count": 12
        },
        {
          "output_type": "display_data",
          "data": {
            "text/plain": [
              "<Figure size 360x360 with 1 Axes>"
            ],
            "image/png": "[encoded data removed]"
          },
          "metadata": {}
        }
      ],
      "source": [
        "data['price'] = np.log(data['price'])\n",
        "fig, ax = plt.subplots( figsize=(5,5))\n",
        "sns.histplot(data, x='price', ax=ax)"
      ]
    },
    {
      "cell_type": "markdown",
      "metadata": {
        "id": "-73e--yQMAY7"
      },
      "source": [
        "# Data preprocessing\n",
        "\n"
      ]
    },
    {
      "cell_type": "markdown",
      "metadata": {
        "id": "buAZcMYDXjyW"
      },
      "source": [
        "## Missing values"
      ]
    },
    {
      "cell_type": "code",
      "execution_count": 13,
      "metadata": {
        "colab": {
          "base_uri": "https://localhost:8080/"
        },
        "id": "mhC0eNf8g_PM",
        "outputId": "5f7c005c-ad40-4626-c884-42b23f46890e"
      },
      "outputs": [
        {
          "output_type": "stream",
          "name": "stdout",
          "text": [
            "id               0\n",
            "date             0\n",
            "price            0\n",
            "bedrooms         0\n",
            "bathrooms        0\n",
            "sqft_living      0\n",
            "sqft_lot         0\n",
            "floors           0\n",
            "waterfront       0\n",
            "view             0\n",
            "condition        0\n",
            "grade            0\n",
            "sqft_above       0\n",
            "sqft_basement    0\n",
            "yr_built         0\n",
            "yr_renovated     0\n",
            "zipcode          0\n",
            "lat              0\n",
            "long             0\n",
            "sqft_living15    0\n",
            "sqft_lot15       0\n",
            "dtype: int64\n"
          ]
        }
      ],
      "source": [
        "print(data.isna().sum())\n",
        "for clm in data:\n",
        "  try :\n",
        "    mean = data[clm].mean()\n",
        "    data[clm] = data[clm].fillna(mean)\n",
        "  except : \n",
        "    pass\n",
        "  "
      ]
    },
    {
      "cell_type": "markdown",
      "metadata": {
        "id": "wtKqG_eEQ94M"
      },
      "source": [
        "## Feature ing "
      ]
    },
    {
      "cell_type": "code",
      "execution_count": 14,
      "metadata": {
        "colab": {
          "base_uri": "https://localhost:8080/",
          "height": 452
        },
        "id": "vBf8z-Ag9diY",
        "outputId": "b2fe4487-170c-4639-be74-1d896c15a415"
      },
      "outputs": [
        {
          "output_type": "display_data",
          "data": {
            "text/plain": [
              "<Figure size 576x432 with 2 Axes>"
            ],
            "image/png": "[encoded data removed]"
          },
          "metadata": {}
        }
      ],
      "source": [
        "import matplotlib as plt2\n",
        "mask = np.zeros_like(data.corr())\n",
        "\n",
        "mask[np.triu_indices_from(mask)] = True\n",
        "\n",
        "with sns.axes_style(\"white\"):\n",
        "\n",
        "    f, ax = plt2.pyplot.subplots(figsize=(8, 6))\n",
        "\n",
        "    ax = sns.heatmap(data.corr(), mask=mask, vmax=1,vmin=-1, square=True, cmap=\"coolwarm\")"
      ]
    },
    {
      "cell_type": "code",
      "execution_count": 15,
      "metadata": {
        "id": "kUVS4-9IGZd6",
        "colab": {
          "base_uri": "https://localhost:8080/",
          "height": 36
        },
        "outputId": "867cf657-b4b1-484a-c44d-43d912850fc7"
      },
      "outputs": [
        {
          "output_type": "execute_result",
          "data": {
            "text/plain": [
              "\"features.remove('waterfront')\\n\\ndata.drop(['waterfront'],axis=1,inplace=True)\""
            ],
            "application/vnd.google.colaboratory.intrinsic+json": {
              "type": "string"
            }
          },
          "metadata": {},
          "execution_count": 15
        }
      ],
      "source": [
        "\"\"\"features.remove('waterfront')\n",
        "\n",
        "data.drop(['waterfront'],axis=1,inplace=True)\"\"\""
      ]
    },
    {
      "cell_type": "code",
      "execution_count": 16,
      "metadata": {
        "colab": {
          "base_uri": "https://localhost:8080/"
        },
        "id": "mt_uN8U6fhKg",
        "outputId": "dfb91e15-3d24-42d3-fe99-a9c1e1ae722f"
      },
      "outputs": [
        {
          "output_type": "execute_result",
          "data": {
            "text/plain": [
              "['bedrooms',\n",
              " 'bathrooms',\n",
              " 'sqft_living',\n",
              " 'sqft_lot',\n",
              " 'floors',\n",
              " 'waterfront',\n",
              " 'view',\n",
              " 'condition',\n",
              " 'grade',\n",
              " 'sqft_above',\n",
              " 'sqft_basement',\n",
              " 'yr_built',\n",
              " 'yr_renovated',\n",
              " 'zipcode',\n",
              " 'lat',\n",
              " 'long',\n",
              " 'sqft_living15',\n",
              " 'sqft_lot15']"
            ]
          },
          "metadata": {},
          "execution_count": 16
        }
      ],
      "source": [
        "features"
      ]
    },
    {
      "cell_type": "markdown",
      "metadata": {
        "id": "XEOQCrg8kGgY"
      },
      "source": [
        "## Outliers"
      ]
    },
    {
      "cell_type": "markdown",
      "source": [
        "There are clear outliers in the data set, we're going to remove them using the 3 sigma method."
      ],
      "metadata": {
        "id": "iTKcvYi-IpYe"
      }
    },
    {
      "cell_type": "code",
      "execution_count": 17,
      "metadata": {
        "colab": {
          "base_uri": "https://localhost:8080/"
        },
        "id": "buzTxY46-bWk",
        "outputId": "ac195303-a0d0-488d-d5d1-463bfe51e2a6"
      },
      "outputs": [
        {
          "output_type": "stream",
          "name": "stdout",
          "text": [
            "           bedrooms     bathrooms   sqft_living      sqft_lot        floors  \\\n",
            "count  21613.000000  21613.000000  21613.000000  2.161300e+04  21613.000000   \n",
            "mean       3.370842      2.114757   2079.899736  1.510697e+04      1.494309   \n",
            "std        0.930062      0.770163    918.440897  4.142051e+04      0.539989   \n",
            "min        0.000000      0.000000    290.000000  5.200000e+02      1.000000   \n",
            "25%        3.000000      1.750000   1427.000000  5.040000e+03      1.000000   \n",
            "50%        3.000000      2.250000   1910.000000  7.618000e+03      1.500000   \n",
            "75%        4.000000      2.500000   2550.000000  1.068800e+04      2.000000   \n",
            "max       33.000000      8.000000  13540.000000  1.651359e+06      3.500000   \n",
            "\n",
            "         waterfront          view     condition         grade    sqft_above  \\\n",
            "count  21613.000000  21613.000000  21613.000000  21613.000000  21613.000000   \n",
            "mean       0.007542      0.234303      3.409430      7.656873   1788.390691   \n",
            "std        0.086517      0.766318      0.650743      1.175459    828.090978   \n",
            "min        0.000000      0.000000      1.000000      1.000000    290.000000   \n",
            "25%        0.000000      0.000000      3.000000      7.000000   1190.000000   \n",
            "50%        0.000000      0.000000      3.000000      7.000000   1560.000000   \n",
            "75%        0.000000      0.000000      4.000000      8.000000   2210.000000   \n",
            "max        1.000000      4.000000      5.000000     13.000000   9410.000000   \n",
            "\n",
            "       sqft_basement      yr_built  yr_renovated       zipcode           lat  \\\n",
            "count   21613.000000  21613.000000  21613.000000  21613.000000  21613.000000   \n",
            "mean      291.509045   1971.005136     84.402258  98077.939805     47.560053   \n",
            "std       442.575043     29.373411    401.679240     53.505026      0.138564   \n",
            "min         0.000000   1900.000000      0.000000  98001.000000     47.155900   \n",
            "25%         0.000000   1951.000000      0.000000  98033.000000     47.471000   \n",
            "50%         0.000000   1975.000000      0.000000  98065.000000     47.571800   \n",
            "75%       560.000000   1997.000000      0.000000  98118.000000     47.678000   \n",
            "max      4820.000000   2015.000000   2015.000000  98199.000000     47.777600   \n",
            "\n",
            "               long  sqft_living15     sqft_lot15  \n",
            "count  21613.000000   21613.000000   21613.000000  \n",
            "mean    -122.213896    1986.552492   12768.455652  \n",
            "std        0.140828     685.391304   27304.179631  \n",
            "min     -122.519000     399.000000     651.000000  \n",
            "25%     -122.328000    1490.000000    5100.000000  \n",
            "50%     -122.230000    1840.000000    7620.000000  \n",
            "75%     -122.125000    2360.000000   10083.000000  \n",
            "max     -121.315000    6210.000000  871200.000000  \n"
          ]
        }
      ],
      "source": [
        "summary = data[features].describe()\n",
        "print(summary)"
      ]
    },
    {
      "cell_type": "code",
      "execution_count": 18,
      "metadata": {
        "colab": {
          "base_uri": "https://localhost:8080/",
          "height": 297
        },
        "id": "3TyGyZXimJRa",
        "outputId": "a40dbfb8-9df9-412b-b9fc-8cb8a55c6c4a"
      },
      "outputs": [
        {
          "output_type": "execute_result",
          "data": {
            "text/plain": [
              "<AxesSubplot:>"
            ]
          },
          "metadata": {},
          "execution_count": 18
        },
        {
          "output_type": "display_data",
          "data": {
            "text/plain": [
              "<Figure size 432x288 with 1 Axes>"
            ],
            "image/png": "[encoded data removed]"
          },
          "metadata": {}
        }
      ],
      "source": [
        "sns.boxplot(data=data[features])"
      ]
    },
    {
      "cell_type": "code",
      "execution_count": 19,
      "metadata": {
        "colab": {
          "base_uri": "https://localhost:8080/",
          "height": 286
        },
        "id": "YAsiI77ZmxWa",
        "outputId": "3cf1fe23-e514-4810-c53e-ce745f997b0b"
      },
      "outputs": [
        {
          "output_type": "execute_result",
          "data": {
            "text/plain": [
              "<AxesSubplot:>"
            ]
          },
          "metadata": {},
          "execution_count": 19
        },
        {
          "output_type": "display_data",
          "data": {
            "text/plain": [
              "<Figure size 432x288 with 1 Axes>"
            ],
            "image/png": "[encoded data removed]"
          },
          "metadata": {}
        }
      ],
      "source": [
        "\"\"\"scaler = StandardScaler()\n",
        "data_scaled2 = scaler.fit_transform(data.loc[:,features])\"\"\"\n",
        "\n",
        "\n",
        "from scipy.stats import zscore\n",
        "# Scaled df\n",
        "data_normalized = data[features].apply(zscore)\n",
        "\n",
        "sns.boxplot(data=data_normalized)"
      ]
    },
    {
      "cell_type": "code",
      "execution_count": 22,
      "metadata": {
        "colab": {
          "base_uri": "https://localhost:8080/"
        },
        "id": "jRhb1z_i_IQo",
        "outputId": "922b965c-7aad-4382-9566-cafc6fe29ac6"
      },
      "outputs": [
        {
          "output_type": "execute_result",
          "data": {
            "text/plain": [
              "Int64Index([], dtype='int64')"
            ]
          },
          "metadata": {},
          "execution_count": 22
        }
      ],
      "source": [
        "\n",
        "outlier_mask = data_normalized[(~(data_normalized<3).all(axis=1))].index\n",
        "data_normalized =data_normalized.drop(outlier_mask)\n",
        "data = data.drop(outlier_mask)\n",
        "outlier_mask\n"
      ]
    },
    {
      "cell_type": "code",
      "execution_count": 23,
      "metadata": {
        "colab": {
          "base_uri": "https://localhost:8080/",
          "height": 424
        },
        "id": "LyHqKPZn_tNk",
        "outputId": "e0b8343f-5611-4ba4-c0ed-08fe4f381585"
      },
      "outputs": [
        {
          "output_type": "execute_result",
          "data": {
            "text/plain": [
              "               id             date      price  bedrooms  bathrooms  \\\n",
              "0      7129300520  20141013T000000  12.309982         3       1.00   \n",
              "1      5631500400  20150225T000000  12.100712         2       1.00   \n",
              "2      2487200875  20141209T000000  13.311329         4       3.00   \n",
              "3      1954400510  20150218T000000  13.142166         3       2.00   \n",
              "4      1321400060  20140627T000000  12.458775         3       2.25   \n",
              "...           ...              ...        ...       ...        ...   \n",
              "18846   263000018  20140521T000000  12.793859         3       2.50   \n",
              "18847  6600060120  20150223T000000  12.899220         4       2.50   \n",
              "18848  1523300141  20140623T000000  12.904459         2       0.75   \n",
              "18849   291310100  20150116T000000  12.899220         3       2.50   \n",
              "18850  1523300157  20141015T000000  12.691580         2       0.75   \n",
              "\n",
              "       sqft_living  sqft_lot  floors  waterfront  view  ...  grade  \\\n",
              "0             1180      5650     1.0           0     0  ...      7   \n",
              "1              770     10000     1.0           0     0  ...      6   \n",
              "2             1960      5000     1.0           0     0  ...      7   \n",
              "3             1680      8080     1.0           0     0  ...      8   \n",
              "4             1715      6819     2.0           0     0  ...      7   \n",
              "...            ...       ...     ...         ...   ...  ...    ...   \n",
              "18846         1530      1131     3.0           0     0  ...      8   \n",
              "18847         2310      5813     2.0           0     0  ...      8   \n",
              "18848         1020      1350     2.0           0     0  ...      7   \n",
              "18849         1600      2388     2.0           0     0  ...      8   \n",
              "18850         1020      1076     2.0           0     0  ...      7   \n",
              "\n",
              "       sqft_above  sqft_basement  yr_built  yr_renovated  zipcode      lat  \\\n",
              "0            1180              0      1955             0    98178  47.5112   \n",
              "1             770              0      1933             0    98028  47.7379   \n",
              "2            1050            910      1965             0    98136  47.5208   \n",
              "3            1680              0      1987             0    98074  47.6168   \n",
              "4            1715              0      1995             0    98003  47.3097   \n",
              "...           ...            ...       ...           ...      ...      ...   \n",
              "18846        1530              0      2009             0    98103  47.6993   \n",
              "18847        2310              0      2014             0    98146  47.5107   \n",
              "18848        1020              0      2009             0    98144  47.5944   \n",
              "18849        1600              0      2004             0    98027  47.5345   \n",
              "18850        1020              0      2008             0    98144  47.5941   \n",
              "\n",
              "          long  sqft_living15  sqft_lot15  \n",
              "0     -122.257           1340        5650  \n",
              "1     -122.233           2720        8062  \n",
              "2     -122.393           1360        5000  \n",
              "3     -122.045           1800        7503  \n",
              "4     -122.327           2238        6819  \n",
              "...        ...            ...         ...  \n",
              "18846 -122.346           1530        1509  \n",
              "18847 -122.362           1830        7200  \n",
              "18848 -122.299           1020        2007  \n",
              "18849 -122.069           1410        1287  \n",
              "18850 -122.299           1020        1357  \n",
              "\n",
              "[18851 rows x 21 columns]"
            ],
            "text/html": [
              "\n",
              "  <div id=\"df-c485f29b-4631-4609-8f5a-316309b3324c\">\n",
              "    <div class=\"colab-df-container\">\n",
              "      <div>\n",
              "<style scoped>\n",
              "    .dataframe tbody tr th:only-of-type {\n",
              "        vertical-align: middle;\n",
              "    }\n",
              "\n",
              "    .dataframe tbody tr th {\n",
              "        vertical-align: top;\n",
              "    }\n",
              "\n",
              "    .dataframe thead th {\n",
              "        text-align: right;\n",
              "    }\n",
              "</style>\n",
              "<table border=\"1\" class=\"dataframe\">\n",
              "  <thead>\n",
              "    <tr style=\"text-align: right;\">\n",
              "      <th></th>\n",
              "      <th>id</th>\n",
              "      <th>date</th>\n",
              "      <th>price</th>\n",
              "      <th>bedrooms</th>\n",
              "      <th>bathrooms</th>\n",
              "      <th>sqft_living</th>\n",
              "      <th>sqft_lot</th>\n",
              "      <th>floors</th>\n",
              "      <th>waterfront</th>\n",
              "      <th>view</th>\n",
              "      <th>...</th>\n",
              "      <th>grade</th>\n",
              "      <th>sqft_above</th>\n",
              "      <th>sqft_basement</th>\n",
              "      <th>yr_built</th>\n",
              "      <th>yr_renovated</th>\n",
              "      <th>zipcode</th>\n",
              "      <th>lat</th>\n",
              "      <th>long</th>\n",
              "      <th>sqft_living15</th>\n",
              "      <th>sqft_lot15</th>\n",
              "    </tr>\n",
              "  </thead>\n",
              "  <tbody>\n",
              "    <tr>\n",
              "      <th>0</th>\n",
              "      <td>7129300520</td>\n",
              "      <td>20141013T000000</td>\n",
              "      <td>12.309982</td>\n",
              "      <td>3</td>\n",
              "      <td>1.00</td>\n",
              "      <td>1180</td>\n",
              "      <td>5650</td>\n",
              "      <td>1.0</td>\n",
              "      <td>0</td>\n",
              "      <td>0</td>\n",
              "      <td>...</td>\n",
              "      <td>7</td>\n",
              "      <td>1180</td>\n",
              "      <td>0</td>\n",
              "      <td>1955</td>\n",
              "      <td>0</td>\n",
              "      <td>98178</td>\n",
              "      <td>47.5112</td>\n",
              "      <td>-122.257</td>\n",
              "      <td>1340</td>\n",
              "      <td>5650</td>\n",
              "    </tr>\n",
              "    <tr>\n",
              "      <th>1</th>\n",
              "      <td>5631500400</td>\n",
              "      <td>20150225T000000</td>\n",
              "      <td>12.100712</td>\n",
              "      <td>2</td>\n",
              "      <td>1.00</td>\n",
              "      <td>770</td>\n",
              "      <td>10000</td>\n",
              "      <td>1.0</td>\n",
              "      <td>0</td>\n",
              "      <td>0</td>\n",
              "      <td>...</td>\n",
              "      <td>6</td>\n",
              "      <td>770</td>\n",
              "      <td>0</td>\n",
              "      <td>1933</td>\n",
              "      <td>0</td>\n",
              "      <td>98028</td>\n",
              "      <td>47.7379</td>\n",
              "      <td>-122.233</td>\n",
              "      <td>2720</td>\n",
              "      <td>8062</td>\n",
              "    </tr>\n",
              "    <tr>\n",
              "      <th>2</th>\n",
              "      <td>2487200875</td>\n",
              "      <td>20141209T000000</td>\n",
              "      <td>13.311329</td>\n",
              "      <td>4</td>\n",
              "      <td>3.00</td>\n",
              "      <td>1960</td>\n",
              "      <td>5000</td>\n",
              "      <td>1.0</td>\n",
              "      <td>0</td>\n",
              "      <td>0</td>\n",
              "      <td>...</td>\n",
              "      <td>7</td>\n",
              "      <td>1050</td>\n",
              "      <td>910</td>\n",
              "      <td>1965</td>\n",
              "      <td>0</td>\n",
              "      <td>98136</td>\n",
              "      <td>47.5208</td>\n",
              "      <td>-122.393</td>\n",
              "      <td>1360</td>\n",
              "      <td>5000</td>\n",
              "    </tr>\n",
              "    <tr>\n",
              "      <th>3</th>\n",
              "      <td>1954400510</td>\n",
              "      <td>20150218T000000</td>\n",
              "      <td>13.142166</td>\n",
              "      <td>3</td>\n",
              "      <td>2.00</td>\n",
              "      <td>1680</td>\n",
              "      <td>8080</td>\n",
              "      <td>1.0</td>\n",
              "      <td>0</td>\n",
              "      <td>0</td>\n",
              "      <td>...</td>\n",
              "      <td>8</td>\n",
              "      <td>1680</td>\n",
              "      <td>0</td>\n",
              "      <td>1987</td>\n",
              "      <td>0</td>\n",
              "      <td>98074</td>\n",
              "      <td>47.6168</td>\n",
              "      <td>-122.045</td>\n",
              "      <td>1800</td>\n",
              "      <td>7503</td>\n",
              "    </tr>\n",
              "    <tr>\n",
              "      <th>4</th>\n",
              "      <td>1321400060</td>\n",
              "      <td>20140627T000000</td>\n",
              "      <td>12.458775</td>\n",
              "      <td>3</td>\n",
              "      <td>2.25</td>\n",
              "      <td>1715</td>\n",
              "      <td>6819</td>\n",
              "      <td>2.0</td>\n",
              "      <td>0</td>\n",
              "      <td>0</td>\n",
              "      <td>...</td>\n",
              "      <td>7</td>\n",
              "      <td>1715</td>\n",
              "      <td>0</td>\n",
              "      <td>1995</td>\n",
              "      <td>0</td>\n",
              "      <td>98003</td>\n",
              "      <td>47.3097</td>\n",
              "      <td>-122.327</td>\n",
              "      <td>2238</td>\n",
              "      <td>6819</td>\n",
              "    </tr>\n",
              "    <tr>\n",
              "      <th>...</th>\n",
              "      <td>...</td>\n",
              "      <td>...</td>\n",
              "      <td>...</td>\n",
              "      <td>...</td>\n",
              "      <td>...</td>\n",
              "      <td>...</td>\n",
              "      <td>...</td>\n",
              "      <td>...</td>\n",
              "      <td>...</td>\n",
              "      <td>...</td>\n",
              "      <td>...</td>\n",
              "      <td>...</td>\n",
              "      <td>...</td>\n",
              "      <td>...</td>\n",
              "      <td>...</td>\n",
              "      <td>...</td>\n",
              "      <td>...</td>\n",
              "      <td>...</td>\n",
              "      <td>...</td>\n",
              "      <td>...</td>\n",
              "      <td>...</td>\n",
              "    </tr>\n",
              "    <tr>\n",
              "      <th>18846</th>\n",
              "      <td>263000018</td>\n",
              "      <td>20140521T000000</td>\n",
              "      <td>12.793859</td>\n",
              "      <td>3</td>\n",
              "      <td>2.50</td>\n",
              "      <td>1530</td>\n",
              "      <td>1131</td>\n",
              "      <td>3.0</td>\n",
              "      <td>0</td>\n",
              "      <td>0</td>\n",
              "      <td>...</td>\n",
              "      <td>8</td>\n",
              "      <td>1530</td>\n",
              "      <td>0</td>\n",
              "      <td>2009</td>\n",
              "      <td>0</td>\n",
              "      <td>98103</td>\n",
              "      <td>47.6993</td>\n",
              "      <td>-122.346</td>\n",
              "      <td>1530</td>\n",
              "      <td>1509</td>\n",
              "    </tr>\n",
              "    <tr>\n",
              "      <th>18847</th>\n",
              "      <td>6600060120</td>\n",
              "      <td>20150223T000000</td>\n",
              "      <td>12.899220</td>\n",
              "      <td>4</td>\n",
              "      <td>2.50</td>\n",
              "      <td>2310</td>\n",
              "      <td>5813</td>\n",
              "      <td>2.0</td>\n",
              "      <td>0</td>\n",
              "      <td>0</td>\n",
              "      <td>...</td>\n",
              "      <td>8</td>\n",
              "      <td>2310</td>\n",
              "      <td>0</td>\n",
              "      <td>2014</td>\n",
              "      <td>0</td>\n",
              "      <td>98146</td>\n",
              "      <td>47.5107</td>\n",
              "      <td>-122.362</td>\n",
              "      <td>1830</td>\n",
              "      <td>7200</td>\n",
              "    </tr>\n",
              "    <tr>\n",
              "      <th>18848</th>\n",
              "      <td>1523300141</td>\n",
              "      <td>20140623T000000</td>\n",
              "      <td>12.904459</td>\n",
              "      <td>2</td>\n",
              "      <td>0.75</td>\n",
              "      <td>1020</td>\n",
              "      <td>1350</td>\n",
              "      <td>2.0</td>\n",
              "      <td>0</td>\n",
              "      <td>0</td>\n",
              "      <td>...</td>\n",
              "      <td>7</td>\n",
              "      <td>1020</td>\n",
              "      <td>0</td>\n",
              "      <td>2009</td>\n",
              "      <td>0</td>\n",
              "      <td>98144</td>\n",
              "      <td>47.5944</td>\n",
              "      <td>-122.299</td>\n",
              "      <td>1020</td>\n",
              "      <td>2007</td>\n",
              "    </tr>\n",
              "    <tr>\n",
              "      <th>18849</th>\n",
              "      <td>291310100</td>\n",
              "      <td>20150116T000000</td>\n",
              "      <td>12.899220</td>\n",
              "      <td>3</td>\n",
              "      <td>2.50</td>\n",
              "      <td>1600</td>\n",
              "      <td>2388</td>\n",
              "      <td>2.0</td>\n",
              "      <td>0</td>\n",
              "      <td>0</td>\n",
              "      <td>...</td>\n",
              "      <td>8</td>\n",
              "      <td>1600</td>\n",
              "      <td>0</td>\n",
              "      <td>2004</td>\n",
              "      <td>0</td>\n",
              "      <td>98027</td>\n",
              "      <td>47.5345</td>\n",
              "      <td>-122.069</td>\n",
              "      <td>1410</td>\n",
              "      <td>1287</td>\n",
              "    </tr>\n",
              "    <tr>\n",
              "      <th>18850</th>\n",
              "      <td>1523300157</td>\n",
              "      <td>20141015T000000</td>\n",
              "      <td>12.691580</td>\n",
              "      <td>2</td>\n",
              "      <td>0.75</td>\n",
              "      <td>1020</td>\n",
              "      <td>1076</td>\n",
              "      <td>2.0</td>\n",
              "      <td>0</td>\n",
              "      <td>0</td>\n",
              "      <td>...</td>\n",
              "      <td>7</td>\n",
              "      <td>1020</td>\n",
              "      <td>0</td>\n",
              "      <td>2008</td>\n",
              "      <td>0</td>\n",
              "      <td>98144</td>\n",
              "      <td>47.5941</td>\n",
              "      <td>-122.299</td>\n",
              "      <td>1020</td>\n",
              "      <td>1357</td>\n",
              "    </tr>\n",
              "  </tbody>\n",
              "</table>\n",
              "<p>18851 rows × 21 columns</p>\n",
              "</div>\n",
              "      <button class=\"colab-df-convert\" onclick=\"convertToInteractive('df-c485f29b-4631-4609-8f5a-316309b3324c')\"\n",
              "              title=\"Convert this dataframe to an interactive table.\"\n",
              "              style=\"display:none;\">\n",
              "        \n",
              "  <svg xmlns=\"http://www.w3.org/2000/svg\" height=\"24px\"viewBox=\"0 0 24 24\"\n",
              "       width=\"24px\">\n",
              "    <path d=\"M0 0h24v24H0V0z\" fill=\"none\"/>\n",
              "    <path d=\"M18.56 5.44l.94 2.06.94-2.06 2.06-.94-2.06-.94-.94-2.06-.94 2.06-2.06.94zm-11 1L8.5 8.5l.94-2.06 2.06-.94-2.06-.94L8.5 2.5l-.94 2.06-2.06.94zm10 10l.94 2.06.94-2.06 2.06-.94-2.06-.94-.94-2.06-.94 2.06-2.06.94z\"/><path d=\"M17.41 7.96l-1.37-1.37c-.4-.4-.92-.59-1.43-.59-.52 0-1.04.2-1.43.59L10.3 9.45l-7.72 7.72c-.78.78-.78 2.05 0 2.83L4 21.41c.39.39.9.59 1.41.59.51 0 1.02-.2 1.41-.59l7.78-7.78 2.81-2.81c.8-.78.8-2.07 0-2.86zM5.41 20L4 18.59l7.72-7.72 1.47 1.35L5.41 20z\"/>\n",
              "  </svg>\n",
              "      </button>\n",
              "      \n",
              "  <style>\n",
              "    .colab-df-container {\n",
              "      display:flex;\n",
              "      flex-wrap:wrap;\n",
              "      gap: 12px;\n",
              "    }\n",
              "\n",
              "    .colab-df-convert {\n",
              "      background-color: #E8F0FE;\n",
              "      border: none;\n",
              "      border-radius: 50%;\n",
              "      cursor: pointer;\n",
              "      display: none;\n",
              "      fill: #1967D2;\n",
              "      height: 32px;\n",
              "      padding: 0 0 0 0;\n",
              "      width: 32px;\n",
              "    }\n",
              "\n",
              "    .colab-df-convert:hover {\n",
              "      background-color: #E2EBFA;\n",
              "      box-shadow: 0px 1px 2px rgba(60, 64, 67, 0.3), 0px 1px 3px 1px rgba(60, 64, 67, 0.15);\n",
              "      fill: #174EA6;\n",
              "    }\n",
              "\n",
              "    [theme=dark] .colab-df-convert {\n",
              "      background-color: #3B4455;\n",
              "      fill: #D2E3FC;\n",
              "    }\n",
              "\n",
              "    [theme=dark] .colab-df-convert:hover {\n",
              "      background-color: #434B5C;\n",
              "      box-shadow: 0px 1px 3px 1px rgba(0, 0, 0, 0.15);\n",
              "      filter: drop-shadow(0px 1px 2px rgba(0, 0, 0, 0.3));\n",
              "      fill: #FFFFFF;\n",
              "    }\n",
              "  </style>\n",
              "\n",
              "      <script>\n",
              "        const buttonEl =\n",
              "          document.querySelector('#df-c485f29b-4631-4609-8f5a-316309b3324c button.colab-df-convert');\n",
              "        buttonEl.style.display =\n",
              "          google.colab.kernel.accessAllowed ? 'block' : 'none';\n",
              "\n",
              "        async function convertToInteractive(key) {\n",
              "          const element = document.querySelector('#df-c485f29b-4631-4609-8f5a-316309b3324c');\n",
              "          const dataTable =\n",
              "            await google.colab.kernel.invokeFunction('convertToInteractive',\n",
              "                                                     [key], {});\n",
              "          if (!dataTable) return;\n",
              "\n",
              "          const docLinkHtml = 'Like what you see? Visit the ' +\n",
              "            '<a target=\"_blank\" href=https://colab.research.google.com/notebooks/data_table.ipynb>data table notebook</a>'\n",
              "            + ' to learn more about interactive tables.';\n",
              "          element.innerHTML = '';\n",
              "          dataTable['output_type'] = 'display_data';\n",
              "          await google.colab.output.renderOutput(dataTable, element);\n",
              "          const docLink = document.createElement('div');\n",
              "          docLink.innerHTML = docLinkHtml;\n",
              "          element.appendChild(docLink);\n",
              "        }\n",
              "      </script>\n",
              "    </div>\n",
              "  </div>\n",
              "  "
            ]
          },
          "metadata": {},
          "execution_count": 23
        }
      ],
      "source": [
        "data.reset_index(drop=True)"
      ]
    },
    {
      "cell_type": "code",
      "execution_count": 24,
      "metadata": {
        "colab": {
          "base_uri": "https://localhost:8080/",
          "height": 449
        },
        "id": "QTEExRlVQ-KC",
        "outputId": "1d22a842-0120-4a8d-a3ac-02e867042012"
      },
      "outputs": [
        {
          "output_type": "execute_result",
          "data": {
            "text/plain": [
              "<AxesSubplot:>"
            ]
          },
          "metadata": {},
          "execution_count": 24
        },
        {
          "output_type": "display_data",
          "data": {
            "text/plain": [
              "<Figure size 1440x504 with 1 Axes>"
            ],
            "image/png": "[encoded data removed]"
          },
          "metadata": {}
        }
      ],
      "source": [
        "plt.subplots(figsize=(20,7))\n",
        "sns.boxplot(data=data_normalized[features])"
      ]
    },
    {
      "cell_type": "markdown",
      "metadata": {
        "id": "lhlG3Ezq2R-L"
      },
      "source": [
        "# Modeling"
      ]
    },
    {
      "cell_type": "code",
      "execution_count": 26,
      "metadata": {
        "id": "UdeR_8iO9oDg"
      },
      "outputs": [],
      "source": [
        "def get_rmse(y_test,y_pred):\n",
        "\n",
        "  # Calculate the mean squared error\n",
        "  mse = mean_squared_error(y_test, y_pred)\n",
        "\n",
        "  # Calculate the root mean squared error\n",
        "  rmse = sqrt(mse)\n",
        "  return rmse"
      ]
    },
    {
      "cell_type": "markdown",
      "metadata": {
        "id": "jui6MSf_S0Q1"
      },
      "source": [
        "## Model selection"
      ]
    },
    {
      "cell_type": "markdown",
      "source": [
        "Here multiple things were tested. Permutation Importance and linear regression were used to see if the changes would decrease the rmse on a linear regression model, this is how the model selection was basically implemented. "
      ],
      "metadata": {
        "id": "IjT_zETCJMDT"
      }
    },
    {
      "cell_type": "code",
      "execution_count": 27,
      "metadata": {
        "id": "FEaiEuHhCCP6"
      },
      "outputs": [],
      "source": [
        "X = data.loc[:,features]\n",
        "y = data.loc[:,target]\n",
        "from sklearn.model_selection import train_test_split\n",
        "X_train, X_test, y_train, y_test = train_test_split(X, y, test_size = 0.2, random_state = 0)"
      ]
    },
    {
      "cell_type": "code",
      "execution_count": 28,
      "metadata": {
        "id": "UMRU_PQYHg3p"
      },
      "outputs": [],
      "source": [
        "# pip install eli5"
      ]
    },
    {
      "cell_type": "code",
      "execution_count": 29,
      "metadata": {
        "id": "N4s_CC9cHKS5",
        "colab": {
          "base_uri": "https://localhost:8080/",
          "height": 71
        },
        "outputId": "c177db01-1a8e-4576-b82e-cdf711094850"
      },
      "outputs": [
        {
          "output_type": "execute_result",
          "data": {
            "text/plain": [
              "\"\\nimport eli5\\nfrom eli5.sklearn import PermutationImportance\\n  \\ndef perm_imp(model,data,target):\\n    X = data.to_numpy().copy()\\n    y = target.to_numpy().copy()\\n    permute = PermutationImportance(model,random_state=2023,n_iter =2,cv=10,scoring='neg_root_mean_squared_error').fit(X, y)\\n    eli5.show_weights(permute, feature_names = data.columns.tolist(),top=50)\\n    values = dict(zip(list(data.columns),list(permute.feature_importances_)))\\n    sorted_dict = {}\\n    sorted_keys = sorted(values, key=values.get)\\n    for w in sorted_keys:\\n        sorted_dict[w] = np.round(values[w],3)\\n    return sorted_dict\\n\\n# perm_imp(regressor,X_train,y_train)\\n\""
            ],
            "application/vnd.google.colaboratory.intrinsic+json": {
              "type": "string"
            }
          },
          "metadata": {},
          "execution_count": 29
        }
      ],
      "source": [
        "\"\"\"\n",
        "import eli5\n",
        "from eli5.sklearn import PermutationImportance\n",
        "  \n",
        "def perm_imp(model,data,target):\n",
        "    X = data.to_numpy().copy()\n",
        "    y = target.to_numpy().copy()\n",
        "    permute = PermutationImportance(model,random_state=2023,n_iter =2,cv=10,scoring='neg_root_mean_squared_error').fit(X, y)\n",
        "    eli5.show_weights(permute, feature_names = data.columns.tolist(),top=50)\n",
        "    values = dict(zip(list(data.columns),list(permute.feature_importances_)))\n",
        "    sorted_dict = {}\n",
        "    sorted_keys = sorted(values, key=values.get)\n",
        "    for w in sorted_keys:\n",
        "        sorted_dict[w] = np.round(values[w],3)\n",
        "    return sorted_dict\n",
        "\n",
        "# perm_imp(regressor,X_train,y_train)\n",
        "\"\"\""
      ]
    },
    {
      "cell_type": "code",
      "source": [
        "features.remove('waterfront')\n",
        "\n",
        "data.drop(['waterfront'],axis=1,inplace=True)\n",
        "\n",
        "features_cat = [\n",
        " 'condition',\n",
        " 'grade',\n",
        " 'zipcode',\n",
        "  'view',\n",
        " 'yr_built',\n",
        "]\n",
        "\n",
        "features_num = ['bedrooms',\n",
        " 'bathrooms',\n",
        " 'sqft_living',\n",
        " 'sqft_lot',\n",
        " 'floors',\n",
        " 'sqft_above',\n",
        " 'sqft_basement',\n",
        " 'lat',\n",
        " 'long',\n",
        " 'sqft_living15',\n",
        " 'sqft_lot15']"
      ],
      "metadata": {
        "id": "8YDmr_qGIRdu"
      },
      "execution_count": 30,
      "outputs": []
    },
    {
      "cell_type": "code",
      "execution_count": 31,
      "metadata": {
        "id": "O5275jGwSzL5"
      },
      "outputs": [],
      "source": [
        "data['sqft_basement'] = data['sqft_basement'].apply(lambda x: np.log(x) if x>0 else 0)\n",
        "data['sqft_living15'] = np.log(data['sqft_living15'])\n",
        "data['sqft_living'] = np.log(data['sqft_living'])\n",
        "data['sqft_lot'] = np.log(data['sqft_lot'])\n",
        "data['sqft_lot15'] = np.log(data['sqft_lot15'])\n",
        "data['long'] =  np.log(data['long'] * data['long'])\n",
        "data['lat'] = np.log(data['lat'] * data['lat'])\n",
        "data['points']= data['condition'] + data['grade'] + data['yr_built']- data['yr_built'].min() + data['zipcode']- data['zipcode'].min() + data['view']\n",
        "data.drop((features_cat),axis=1,inplace=True)\n",
        "\n",
        "features_cat = ['points' ]"
      ]
    },
    {
      "cell_type": "code",
      "execution_count": 32,
      "metadata": {
        "colab": {
          "base_uri": "https://localhost:8080/"
        },
        "id": "lCjv0edt8fU_",
        "outputId": "c0dd8acf-9539-465a-e5b1-2a18059a75ad"
      },
      "outputs": [
        {
          "output_type": "stream",
          "name": "stdout",
          "text": [
            "rmse linear regression 140434.1134834625\n"
          ]
        }
      ],
      "source": [
        "from sklearn.linear_model import LinearRegression\n",
        "regressor = LinearRegression()\n",
        "regressor.fit(X_train, y_train)\n",
        "y_pred = regressor.predict(X_test)\n",
        "print(f'rmse linear regression {get_rmse(np.exp(y_pred),np.exp(y_test))}')\n",
        "\n",
        "# print(f'rmse linear regression {get_rmse(y_pred,y_test)}')\n",
        "# with  nothing rmse = 190473.37551184202\n",
        "# transformation log(y) rmse = 175354.54029033447\n",
        "# Doing outliers rmse = 140226.11385150685\n",
        "# WIthout waterfront rmse = 132723.8101450237"
      ]
    },
    {
      "cell_type": "markdown",
      "metadata": {
        "id": "-E5YPIjfoj90"
      },
      "source": [
        "## Encoding"
      ]
    },
    {
      "cell_type": "code",
      "execution_count": null,
      "metadata": {
        "id": "9k1iy7tpBpDp"
      },
      "outputs": [],
      "source": [
        "\"\"\"\n",
        "transformer_num = make_pipeline(\n",
        "    #SimpleImputer(strategy=\"mean\"),\n",
        "    StandardScaler(),\n",
        ")\n",
        "\n",
        "'''\n",
        "transformer_cat = make_pipeline(\n",
        "    SimpleImputer(strategy=\"most_frequent\", fill_value=\"NA\"),\n",
        "    LabelEncoder(),\n",
        ")\n",
        "'''\n",
        "\n",
        "\n",
        "transformer_cat = make_pipeline(\n",
        "    SimpleImputer(strategy=\"most_frequent\", fill_value=\"NA\"),\n",
        "    OneHotEncoder(handle_unknown='ignore'),\n",
        ")\n",
        "\n",
        "\n",
        "preprocessor = make_column_transformer(\n",
        "    (transformer_cat, features_cat),\n",
        "    (transformer_num, features_num)\n",
        ")\n",
        "\n",
        "X_train = preprocessor.fit_transform(X_train)\n",
        "X_test = preprocessor.transform(X_test)\n",
        "\n",
        "ohe_feature_names = preprocessor.named_transformers_['pipeline-1'].named_steps['onehotencoder'].get_feature_names_out(features_cat)\n",
        "feature_names = list(features_num) + list(ohe_feature_names)\n",
        "\n",
        "# X_train = X_train.toarray()\n",
        "# X_test = X_test.toarray()\n",
        "X_train = pd.DataFrame(X_train, columns=feature_names)\n",
        "X_test = pd.DataFrame(X_test, columns=feature_names)\n",
        "\"\"\"\n",
        "\n"
      ]
    },
    {
      "cell_type": "markdown",
      "metadata": {
        "id": "8Tc-frfmAK0E"
      },
      "source": [
        "# Regressions"
      ]
    },
    {
      "cell_type": "code",
      "source": [
        "from sklearn.model_selection import train_test_split\n",
        "X_train, X_test, y_train, y_test = train_test_split(X, y, test_size = 0.2, random_state = 0)"
      ],
      "metadata": {
        "id": "56ykUb0yIdbr"
      },
      "execution_count": 35,
      "outputs": []
    },
    {
      "cell_type": "markdown",
      "metadata": {
        "id": "_mjKhbGMqk1U"
      },
      "source": [
        "## Hyper parameter Optimization"
      ]
    },
    {
      "cell_type": "markdown",
      "source": [
        "CV for hyper parameter optimization with a few models using a few optuna trials. For the sake of time many trials were not done but the model can have better performance with more trials (especially random forest and gradient boosting)"
      ],
      "metadata": {
        "id": "zSDX73bYJ9Eh"
      }
    },
    {
      "cell_type": "markdown",
      "metadata": {
        "id": "1XpjBdip1LwO"
      },
      "source": [
        "### K-NN"
      ]
    },
    {
      "cell_type": "code",
      "execution_count": 36,
      "metadata": {
        "id": "PX1ineRM22eK"
      },
      "outputs": [],
      "source": [
        "def objectiveKnn(trial):\n",
        "    params_optuna = {'n_neighbors' : trial.suggest_int(\"n_neighbors\", 7, 75),\n",
        "    'weights' : trial.suggest_categorical(\"weights\", [\"uniform\", \"distance\"]),\n",
        "    'p' : trial.suggest_int(\"p\", 1, 3),\n",
        "    'leaf_size' : trial.suggest_int(\"leaf_size\", 1, 200),\n",
        "    'algorithm' : trial.suggest_categorical(\"algorithm\", [\"auto\", \"ball_tree\", \"kd_tree\", \"brute\"])\n",
        "    }\n",
        "\n",
        "\n",
        "    model = KNeighborsRegressor(**params_optuna)\n",
        "    kf = KFold(n_splits=5, shuffle=True, random_state=42)\n",
        "    score = cross_val_score(model, X_train, y_train, cv=kf, scoring='neg_root_mean_squared_error').mean()\n",
        "\n",
        "    return -score"
      ]
    },
    {
      "cell_type": "code",
      "execution_count": 37,
      "metadata": {
        "id": "M-wMiSCxyol0",
        "colab": {
          "base_uri": "https://localhost:8080/",
          "height": 0
        },
        "outputId": "96de577c-204e-4034-ade7-d1b81ed8edb4"
      },
      "outputs": [
        {
          "output_type": "execute_result",
          "data": {
            "text/plain": [
              "\"\\nstudy = optuna.create_study(direction='minimize')\\nstudy.optimize(func=objectiveKnn, n_trials=100)\\nstudy.best_params\\n\""
            ],
            "application/vnd.google.colaboratory.intrinsic+json": {
              "type": "string"
            }
          },
          "metadata": {},
          "execution_count": 37
        }
      ],
      "source": [
        "\"\"\"\n",
        "study = optuna.create_study(direction='minimize')\n",
        "study.optimize(func=objectiveKnn, n_trials=100)\n",
        "study.best_params\n",
        "\"\"\""
      ]
    },
    {
      "cell_type": "code",
      "execution_count": 38,
      "metadata": {
        "id": "FPFjhBsPy2IE",
        "colab": {
          "base_uri": "https://localhost:8080/",
          "height": 0
        },
        "outputId": "77923021-ecf6-4fa9-a6a0-538ff7831618"
      },
      "outputs": [
        {
          "output_type": "execute_result",
          "data": {
            "text/plain": [
              "\"\\n{'n_neighbors': 23,\\n 'weights': 'distance',\\n 'p': 1,\\n 'leaf_size': 178,\\n 'algorithm': 'auto'}\""
            ],
            "application/vnd.google.colaboratory.intrinsic+json": {
              "type": "string"
            }
          },
          "metadata": {},
          "execution_count": 38
        }
      ],
      "source": [
        "\"\"\"\n",
        "{'n_neighbors': 23,\n",
        " 'weights': 'distance',\n",
        " 'p': 1,\n",
        " 'leaf_size': 178,\n",
        " 'algorithm': 'auto'}\"\"\""
      ]
    },
    {
      "cell_type": "markdown",
      "metadata": {
        "id": "zDgtQjtyJeB1"
      },
      "source": [
        "### Decision trees"
      ]
    },
    {
      "cell_type": "code",
      "execution_count": 39,
      "metadata": {
        "id": "461CCAPyscto"
      },
      "outputs": [],
      "source": [
        "def objectiveDT(trial):\n",
        "    params_optuna = {\n",
        "    'max_depth' : trial.suggest_int('max_depth', 6, 50),\n",
        "    'min_samples_split' : trial.suggest_int('min_samples_split', 2, 20),\n",
        "    'min_samples_leaf' : trial.suggest_int('min_samples_leaf', 1, 10),\n",
        "    'min_weight_fraction_leaf' : trial.suggest_int('min_weight_fraction_leaf', 0., 0.9),\n",
        "    'min_impurity_decrease' : trial.suggest_int('min_impurity_decrease', 0., 0.9)\n",
        "    }\n",
        "\n",
        "\n",
        "    model = DecisionTreeRegressor(**params_optuna)\n",
        "    kf = KFold(n_splits=5, shuffle=True, random_state=42)\n",
        "    score = cross_val_score(model, X_train, y_train, cv=kf, scoring='neg_root_mean_squared_error').mean()\n",
        "\n",
        "    return -score"
      ]
    },
    {
      "cell_type": "code",
      "execution_count": 40,
      "metadata": {
        "id": "PFaImVJSywps",
        "colab": {
          "base_uri": "https://localhost:8080/",
          "height": 0
        },
        "outputId": "2fb6d6fd-0f8e-44ca-f978-9016bad193d3"
      },
      "outputs": [
        {
          "output_type": "execute_result",
          "data": {
            "text/plain": [
              "\"\\nstudy = optuna.create_study(direction='minimize')\\nstudy.optimize(func=objectiveDT, n_trials=100)\\nstudy.best_params\\n\""
            ],
            "application/vnd.google.colaboratory.intrinsic+json": {
              "type": "string"
            }
          },
          "metadata": {},
          "execution_count": 40
        }
      ],
      "source": [
        "\"\"\"\n",
        "study = optuna.create_study(direction='minimize')\n",
        "study.optimize(func=objectiveDT, n_trials=100)\n",
        "study.best_params\n",
        "\"\"\""
      ]
    },
    {
      "cell_type": "code",
      "execution_count": 41,
      "metadata": {
        "id": "aP7vDpR-y2kj",
        "colab": {
          "base_uri": "https://localhost:8080/",
          "height": 0
        },
        "outputId": "da43c488-4a95-4fc9-daeb-b558710fc12e"
      },
      "outputs": [
        {
          "output_type": "execute_result",
          "data": {
            "text/plain": [
              "\"\\n{'max_depth': 12,\\n 'min_samples_split': 20,\\n 'min_samples_leaf': 8,\\n 'min_weight_fraction_leaf': 0,\\n 'min_impurity_decrease': 0}\\n\\n\""
            ],
            "application/vnd.google.colaboratory.intrinsic+json": {
              "type": "string"
            }
          },
          "metadata": {},
          "execution_count": 41
        }
      ],
      "source": [
        "\"\"\"\n",
        "{'max_depth': 12,\n",
        " 'min_samples_split': 20,\n",
        " 'min_samples_leaf': 8,\n",
        " 'min_weight_fraction_leaf': 0,\n",
        " 'min_impurity_decrease': 0}\n",
        "\n",
        "\"\"\""
      ]
    },
    {
      "cell_type": "markdown",
      "metadata": {
        "id": "BEShHsr-YZlv"
      },
      "source": [
        "### Random forest"
      ]
    },
    {
      "cell_type": "code",
      "execution_count": 42,
      "metadata": {
        "id": "Y3iA2G5NYYyY"
      },
      "outputs": [],
      "source": [
        "def objectiveRF(trial):        \n",
        "  params_optuna = {\n",
        "      'n_estimators': trial.suggest_int('n_estimators', 50, 1000),\n",
        "      'max_depth': trial.suggest_int('max_depth', 15,50),\n",
        "      'min_samples_split': trial.suggest_int('min_samples_split', 2, 100),\n",
        "      'min_samples_leaf': trial.suggest_int('min_samples_leaf', 1, 100),\n",
        "      'min_impurity_decrease': trial.suggest_int('min_impurity_decrease', 0.0 ,0.9),\n",
        "      'max_features': trial.suggest_categorical('max_features', ['auto', 'sqrt', 'log2']),\n",
        "      'max_samples': trial.suggest_int('max_samples', 1, 100),}\n",
        "      \n",
        "  model = RandomForestRegressor(random_state=42, **params_optuna)\n",
        "\n",
        "  kf = KFold(n_splits=5, shuffle=True, random_state=42)\n",
        "  scores = cross_val_score(model, X_train, y_train.values.ravel(), cv=kf, scoring='neg_root_mean_squared_error').mean()\n",
        "\n",
        "  return -scores"
      ]
    },
    {
      "cell_type": "code",
      "execution_count": 43,
      "metadata": {
        "id": "1aV_iBKQy0zv",
        "colab": {
          "base_uri": "https://localhost:8080/",
          "height": 0
        },
        "outputId": "de928b09-93ab-4696-dffe-14a2409ec31f"
      },
      "outputs": [
        {
          "output_type": "execute_result",
          "data": {
            "text/plain": [
              "\"\\nstudy = optuna.create_study(direction='minimize')\\nstudy.optimize(func=objectiveRF, n_trials=100)\\nstudy.best_params\\n\""
            ],
            "application/vnd.google.colaboratory.intrinsic+json": {
              "type": "string"
            }
          },
          "metadata": {},
          "execution_count": 43
        }
      ],
      "source": [
        "\"\"\"\n",
        "study = optuna.create_study(direction='minimize')\n",
        "study.optimize(func=objectiveRF, n_trials=100)\n",
        "study.best_params\n",
        "\"\"\""
      ]
    },
    {
      "cell_type": "code",
      "execution_count": 44,
      "metadata": {
        "id": "gzy9TWOny3FM",
        "colab": {
          "base_uri": "https://localhost:8080/",
          "height": 0
        },
        "outputId": "67a26c98-1708-43a2-dcd9-89a65d83410c"
      },
      "outputs": [
        {
          "output_type": "execute_result",
          "data": {
            "text/plain": [
              "\"\\n{'n_estimators': 309,\\n 'max_depth': 36,\\n 'min_samples_split': 5,\\n 'min_samples_leaf': 1,\\n 'min_impurity_decrease': 0,\\n 'max_features': 'auto',\\n 'max_samples': 51}\\n \""
            ],
            "application/vnd.google.colaboratory.intrinsic+json": {
              "type": "string"
            }
          },
          "metadata": {},
          "execution_count": 44
        }
      ],
      "source": [
        "\"\"\"\n",
        "{'n_estimators': 309,\n",
        " 'max_depth': 36,\n",
        " 'min_samples_split': 5,\n",
        " 'min_samples_leaf': 1,\n",
        " 'min_impurity_decrease': 0,\n",
        " 'max_features': 'auto',\n",
        " 'max_samples': 51}\n",
        " \"\"\""
      ]
    },
    {
      "cell_type": "markdown",
      "metadata": {
        "id": "qiTPU0W1wv9q"
      },
      "source": [
        "### L Gradient boosting"
      ]
    },
    {
      "cell_type": "code",
      "execution_count": 45,
      "metadata": {
        "id": "-qIWmhZ-TVSa"
      },
      "outputs": [],
      "source": [
        "X_train = X_train.reset_index(drop=True)\n",
        "y_train = y_train.reset_index(drop=True)\n",
        "y_train = y_train.to_frame()\n",
        "y_test = y_test.to_frame()"
      ]
    },
    {
      "cell_type": "code",
      "execution_count": 46,
      "metadata": {
        "id": "xJOj2XonwwTt"
      },
      "outputs": [],
      "source": [
        "def objectiveLXB(trial, X_train, y_train, features, target):        \n",
        "  params_optuna = {\n",
        "      'learning_rate': trial.suggest_float('learning_rate', 0.01, 1.0),\n",
        "      'n_estimators': trial.suggest_int('n_estimators', 50, 800),\n",
        "      'max_depth': trial.suggest_int('max_depth', 6, 50),\n",
        "      'reg_alpha    ': trial.suggest_int('reg_alpha    ', 0.0, 0.9),\n",
        "      'reg_lambda    ': trial.suggest_int('reg_lambda    ', 0.0, 0.9),\n",
        "      'objective' : \"regression\"}\n",
        "\n",
        "  n = trial.suggest_int('n_cv', 3, 10)\n",
        "  kf = KFold(n_splits=n, shuffle=True, random_state=42)\n",
        "  fold_scores = []\n",
        "  for train_index, val_index in kf.split(X_train):\n",
        "      X_train_cv = X_train.loc[train_index,features]\n",
        "      y_train_cv = y_train.loc[train_index, target]\n",
        "      X_val, y_val = X_train.loc[val_index,features],y_train.loc[val_index, target]\n",
        "      model = lgbm.LGBMRegressor(**params_optuna)\n",
        "      model.fit(X_train_cv,\n",
        "                y_train_cv,\n",
        "                eval_set= [(X_val,y_val)],\n",
        "                early_stopping_rounds = 50,\n",
        "                verbose=500)\n",
        "      pred_val = model.predict(X_val)\n",
        "      score = get_rmse(y_val,pred_val)\n",
        "      fold_scores.append(score)\n",
        "  return np.mean(fold_scores)\n"
      ]
    },
    {
      "cell_type": "code",
      "execution_count": 47,
      "metadata": {
        "colab": {
          "base_uri": "https://localhost:8080/",
          "height": 0
        },
        "id": "LmwU_5tRzfgM",
        "outputId": "210a71c9-24aa-4b1b-bafb-35760e1519d2"
      },
      "outputs": [
        {
          "output_type": "execute_result",
          "data": {
            "text/plain": [
              "\"\\nsampler = optuna.samplers.TPESampler(seed=42)\\nstudy = optuna.create_study(direction='minimize', sampler=sampler)\\nstudy.optimize(lambda trial: objectiveLXB(trial, X_train, y_train, features, target), n_trials=100)\\nstudy.best_params\\n\""
            ],
            "application/vnd.google.colaboratory.intrinsic+json": {
              "type": "string"
            }
          },
          "metadata": {},
          "execution_count": 47
        }
      ],
      "source": [
        "\"\"\"\n",
        "sampler = optuna.samplers.TPESampler(seed=42)\n",
        "study = optuna.create_study(direction='minimize', sampler=sampler)\n",
        "study.optimize(lambda trial: objectiveLXB(trial, X_train, y_train, features, target), n_trials=100)\n",
        "study.best_params\n",
        "\"\"\""
      ]
    },
    {
      "cell_type": "code",
      "execution_count": 48,
      "metadata": {
        "id": "Drgi9dEc8oBf",
        "colab": {
          "base_uri": "https://localhost:8080/",
          "height": 0
        },
        "outputId": "4d8ca553-a0b1-4585-fa35-aef9c313da94"
      },
      "outputs": [
        {
          "output_type": "execute_result",
          "data": {
            "text/plain": [
              "\"\\n{'learning_rate': 0.039998235893948964,\\n 'n_estimators': 674,\\n 'max_depth': 11,\\n 'reg_alpha    ': 0,\\n 'reg_lambda    ': 0,\\n 'n_cv': 10}\\n \""
            ],
            "application/vnd.google.colaboratory.intrinsic+json": {
              "type": "string"
            }
          },
          "metadata": {},
          "execution_count": 48
        }
      ],
      "source": [
        "\"\"\"\n",
        "{'learning_rate': 0.039998235893948964,\n",
        " 'n_estimators': 674,\n",
        " 'max_depth': 11,\n",
        " 'reg_alpha    ': 0,\n",
        " 'reg_lambda    ': 0,\n",
        " 'n_cv': 10}\n",
        " \"\"\""
      ]
    },
    {
      "cell_type": "markdown",
      "metadata": {
        "id": "RlUH_UwV1sZf"
      },
      "source": [
        "### X Gradient boosting"
      ]
    },
    {
      "cell_type": "code",
      "execution_count": 49,
      "metadata": {
        "id": "_hlmKtmC1tao"
      },
      "outputs": [],
      "source": [
        "def objectiveXB(trial):        \n",
        "  params_optuna = {'max_depth': trial.suggest_int('max_depth', 8, 100),\n",
        "            'learning_rate': trial.suggest_float('learning_rate', 0.01, 1.0),\n",
        "            'n_estimators': trial.suggest_int('n_estimators', 50, 10000),\n",
        "            'alpha': trial.suggest_float('alpha', 0.01, 10),\n",
        "            'subsample': trial.suggest_float('subsample', 0.5, 1.0),\n",
        "            'objective' : \"reg:squarederror\"}\n",
        "# { \"min_impurity_decrease\", \"min_samples_leaf\", \"min_samples_split\", \"min_weight_fraction_leaf\", \"validation_fraction\" } \n",
        "  n = trial.suggest_int('n_cv', 3, 10)\n",
        "  kf = KFold(n_splits=n, shuffle=True, random_state=42)\n",
        "  fold_scores = []\n",
        "\n",
        "  for train_index, val_index in kf.split(X_train):\n",
        "      X_train_cv, y_train_cv = X_train.loc[train_index, features],y_train.loc[train_index, target]\n",
        "      X_val_cv, y_val_cv = X_train.loc[val_index, features],y_train.loc[val_index, target]\n",
        "      model = xgb.XGBRegressor(**params_optuna)\n",
        "      model.fit(X_train,\n",
        "                y_train,\n",
        "                eval_set= [(X_val_cv,y_val_cv)],\n",
        "                early_stopping_rounds = 50,\n",
        "                verbose=500)\n",
        "      pred_val = model.predict(X_val_cv)\n",
        "      score = get_rmse(y_val_cv,pred_val)\n",
        "      fold_scores.append(score)\n",
        "  return np.mean(fold_scores)\n"
      ]
    },
    {
      "cell_type": "code",
      "execution_count": 50,
      "metadata": {
        "colab": {
          "base_uri": "https://localhost:8080/",
          "height": 0
        },
        "id": "fjeor6Dfirem",
        "outputId": "df4c299d-3385-4a46-a4a9-50584c4b7bac"
      },
      "outputs": [
        {
          "output_type": "execute_result",
          "data": {
            "text/plain": [
              "\"\\nstudy = optuna.create_study(direction='minimize')\\nstudy.optimize(func=objectiveXB, n_trials=100)\\nstudy.best_params\\n\""
            ],
            "application/vnd.google.colaboratory.intrinsic+json": {
              "type": "string"
            }
          },
          "metadata": {},
          "execution_count": 50
        }
      ],
      "source": [
        "\"\"\"\n",
        "study = optuna.create_study(direction='minimize')\n",
        "study.optimize(func=objectiveXB, n_trials=100)\n",
        "study.best_params\n",
        "\"\"\""
      ]
    },
    {
      "cell_type": "code",
      "execution_count": 51,
      "metadata": {
        "id": "hHEznoI58nYr",
        "colab": {
          "base_uri": "https://localhost:8080/",
          "height": 0
        },
        "outputId": "18179790-ad1e-4242-90bb-57fe4de581c9"
      },
      "outputs": [
        {
          "output_type": "execute_result",
          "data": {
            "text/plain": [
              "\"\\n{'max_depth': 37, 'learning_rate': 0.06533528600930973, 'n_estimators': 3592, 'alpha': 0.026555079799798875, 'subsample': 0.9929787822914418, 'min_samples_split': 0.8538935953087504, 'min_weight_fraction_leaf': 0.03267785509164127, 'min_impurity_decrease': 0.06178215085295332, 'min_samples_leaf': 0.7482042841526495, 'validation_fraction': 0.038473575091008475, 'n_cv': 8}.\\n \""
            ],
            "application/vnd.google.colaboratory.intrinsic+json": {
              "type": "string"
            }
          },
          "metadata": {},
          "execution_count": 51
        }
      ],
      "source": [
        "\"\"\"\n",
        "{'max_depth': 37, 'learning_rate': 0.06533528600930973, 'n_estimators': 3592, 'alpha': 0.026555079799798875, 'subsample': 0.9929787822914418, 'min_samples_split': 0.8538935953087504, 'min_weight_fraction_leaf': 0.03267785509164127, 'min_impurity_decrease': 0.06178215085295332, 'min_samples_leaf': 0.7482042841526495, 'validation_fraction': 0.038473575091008475, 'n_cv': 8}.\n",
        " \"\"\""
      ]
    },
    {
      "cell_type": "markdown",
      "metadata": {
        "id": "xWV9gMaJxoKc"
      },
      "source": [
        "## CV for the models"
      ]
    },
    {
      "cell_type": "markdown",
      "source": [
        "CV to see how good the model predict compared to the initial linear regression, the best model will be in the ensemble."
      ],
      "metadata": {
        "id": "27BCBvGyKcq6"
      }
    },
    {
      "cell_type": "markdown",
      "metadata": {
        "id": "zvade2ws-5vX"
      },
      "source": [
        "### KNN"
      ]
    },
    {
      "cell_type": "code",
      "execution_count": 52,
      "metadata": {
        "colab": {
          "base_uri": "https://localhost:8080/"
        },
        "id": "6RbjzZ9ixtwc",
        "outputId": "4817ce35-a394-447e-bd81-e93380cfbbe5"
      },
      "outputs": [
        {
          "output_type": "stream",
          "name": "stdout",
          "text": [
            "=== Fold RMSE Score [185530.977752147] ===\n",
            "=== Fold RMSE Score [191343.76559700846] ===\n",
            "=== Fold RMSE Score [176975.23037224764] ===\n",
            "=== Fold RMSE Score [180003.04815363232] ===\n",
            "=== Fold RMSE Score [172286.648729036] ===\n",
            "=== Fold RMSE Score [178239.96912880492] ===\n",
            "=== Fold RMSE Score [194056.51159260952] ===\n",
            "=== Fold RMSE Score [199267.92381201495] ===\n",
            "=== Fold RMSE Score [187176.89942014933] ===\n",
            "=== Fold RMSE Score [179289.36057482968] ===\n",
            "=== OOF score 184595.01277592924 ===\n"
          ]
        }
      ],
      "source": [
        "k = 10\n",
        "kf = KFold(k, shuffle=True, random_state=42)\n",
        "oof_preds = []\n",
        "oof_true = []\n",
        "\n",
        "for train_index, val_index in kf.split(X_train):                                            \n",
        "    X_train_cv = X_train.loc[train_index, :]\n",
        "    y_train_cv = y_train.loc[train_index, :]\n",
        "    X_val = X_train.loc[val_index, :]\n",
        "    y_val = y_train.loc[val_index, target]\n",
        "    params_knn ={'n_neighbors': 23,\n",
        " 'weights': 'distance',\n",
        " 'p': 1,\n",
        " 'leaf_size': 178,\n",
        " 'algorithm': 'auto'}\n",
        "\n",
        "    model = KNeighborsRegressor(**params_knn)\n",
        "    model.fit(X_train_cv,\n",
        "             y_train_cv)\n",
        "    pred_val = model.predict(X_val)\n",
        "    pred_val = np.exp(pred_val)\n",
        "    y_val = np.exp(y_val)\n",
        "\n",
        "    score1 = get_rmse(y_val,pred_val)\n",
        "    \n",
        "    #out of fold\n",
        "    oof_preds.extend(pred_val)\n",
        "    oof_true.extend(y_val)\n",
        "    print(f'=== Fold RMSE Score {[score1]} ===')\n",
        "print(f'=== OOF score {get_rmse(oof_preds,oof_true)} ===')"
      ]
    },
    {
      "cell_type": "markdown",
      "metadata": {
        "id": "uvwoX_Zz-7ui"
      },
      "source": [
        "### Decision trees"
      ]
    },
    {
      "cell_type": "code",
      "execution_count": 53,
      "metadata": {
        "colab": {
          "base_uri": "https://localhost:8080/"
        },
        "id": "zB-Ki_upB516",
        "outputId": "eceb0379-6907-446c-8f38-72ce2236ae72"
      },
      "outputs": [
        {
          "output_type": "stream",
          "name": "stdout",
          "text": [
            "=== Fold RMSE Score [113564.15937232872] ===\n",
            "=== Fold RMSE Score [115216.4164423664] ===\n",
            "=== Fold RMSE Score [99868.86183874155] ===\n",
            "=== Fold RMSE Score [102490.83562691322] ===\n",
            "=== Fold RMSE Score [100108.19626469079] ===\n",
            "=== Fold RMSE Score [111703.375153458] ===\n",
            "=== Fold RMSE Score [112051.60403623067] ===\n",
            "=== Fold RMSE Score [120995.08929159677] ===\n",
            "=== Fold RMSE Score [112807.09565325976] ===\n",
            "=== Fold RMSE Score [102794.30335397902] ===\n",
            "=== OOF score 109378.50797839781 ===\n"
          ]
        }
      ],
      "source": [
        "k = 10\n",
        "kf = KFold(k, shuffle=True, random_state=42)\n",
        "oof_preds = []\n",
        "oof_true = []\n",
        "\n",
        "for train_index, val_index in kf.split(X_train):                                            \n",
        "    X_train_cv = X_train.loc[train_index, :]\n",
        "    y_train_cv = y_train.loc[train_index, :]\n",
        "    X_val = X_train.loc[val_index, :]\n",
        "    y_val = y_train.loc[val_index, target]\n",
        "    params_dt = {'max_depth': 12,\n",
        " 'min_samples_split': 20,\n",
        " 'min_samples_leaf': 8,\n",
        " 'min_weight_fraction_leaf': 0,\n",
        " 'min_impurity_decrease': 0}\n",
        "    model = DecisionTreeRegressor(**params_dt)\n",
        "    model.fit(X_train_cv,\n",
        "             y_train_cv)\n",
        "    pred_val = model.predict(X_val)\n",
        "    pred_val = np.exp(pred_val)\n",
        "    y_val = np.exp(y_val)\n",
        "    score1 = get_rmse(y_val,pred_val)\n",
        "\n",
        "    #out of fold\n",
        "    oof_preds.extend(pred_val)\n",
        "    oof_true.extend(y_val)\n",
        "    print(f'=== Fold RMSE Score {[score1]} ===')\n",
        "print(f'=== OOF score {get_rmse(oof_preds,oof_true)} ===')"
      ]
    },
    {
      "cell_type": "markdown",
      "metadata": {
        "id": "LpGT_FFE--Gi"
      },
      "source": [
        "### Random forest"
      ]
    },
    {
      "cell_type": "code",
      "execution_count": 54,
      "metadata": {
        "colab": {
          "base_uri": "https://localhost:8080/",
          "height": 36
        },
        "id": "5IGhYDAUwxxO",
        "outputId": "3d899708-3359-4019-918a-979860fd83c9"
      },
      "outputs": [
        {
          "output_type": "execute_result",
          "data": {
            "text/plain": [
              "'model = RandomForestRegressor(**params_rf)\\nmodel.fit(X_train,\\n          y_train)\\npred_val = model.predict(X_train)\\npred_val = np.exp(pred_val)\\ny_val = np.exp(y_train)\\nscore1 = get_rmse(y_val,pred_val)\\nprint(score1)'"
            ],
            "application/vnd.google.colaboratory.intrinsic+json": {
              "type": "string"
            }
          },
          "metadata": {},
          "execution_count": 54
        }
      ],
      "source": [
        "\"\"\"model = RandomForestRegressor(**params_rf)\n",
        "model.fit(X_train,\n",
        "          y_train)\n",
        "pred_val = model.predict(X_train)\n",
        "pred_val = np.exp(pred_val)\n",
        "y_val = np.exp(y_train)\n",
        "score1 = get_rmse(y_val,pred_val)\n",
        "print(score1)\"\"\""
      ]
    },
    {
      "cell_type": "code",
      "execution_count": 55,
      "metadata": {
        "colab": {
          "base_uri": "https://localhost:8080/"
        },
        "id": "RBnvxZ6sBgel",
        "outputId": "b2411a65-f3a5-43c1-a07e-bb5b08af0fb1"
      },
      "outputs": [
        {
          "output_type": "stream",
          "name": "stderr",
          "text": [
            "/usr/local/lib/python3.9/dist-packages/sklearn/ensemble/_forest.py:413: FutureWarning: `max_features='auto'` has been deprecated in 1.1 and will be removed in 1.3. To keep the past behaviour, explicitly set `max_features=1.0` or remove this parameter as it is also the default value for RandomForestRegressors and ExtraTreesRegressors.\n",
            "  warn(\n"
          ]
        },
        {
          "output_type": "stream",
          "name": "stdout",
          "text": [
            "=== Fold RMSE Score [147967.31495459843] ===\n"
          ]
        },
        {
          "output_type": "stream",
          "name": "stderr",
          "text": [
            "/usr/local/lib/python3.9/dist-packages/sklearn/ensemble/_forest.py:413: FutureWarning: `max_features='auto'` has been deprecated in 1.1 and will be removed in 1.3. To keep the past behaviour, explicitly set `max_features=1.0` or remove this parameter as it is also the default value for RandomForestRegressors and ExtraTreesRegressors.\n",
            "  warn(\n"
          ]
        },
        {
          "output_type": "stream",
          "name": "stdout",
          "text": [
            "=== Fold RMSE Score [155149.96115268263] ===\n"
          ]
        },
        {
          "output_type": "stream",
          "name": "stderr",
          "text": [
            "/usr/local/lib/python3.9/dist-packages/sklearn/ensemble/_forest.py:413: FutureWarning: `max_features='auto'` has been deprecated in 1.1 and will be removed in 1.3. To keep the past behaviour, explicitly set `max_features=1.0` or remove this parameter as it is also the default value for RandomForestRegressors and ExtraTreesRegressors.\n",
            "  warn(\n"
          ]
        },
        {
          "output_type": "stream",
          "name": "stdout",
          "text": [
            "=== Fold RMSE Score [135214.45671548296] ===\n"
          ]
        },
        {
          "output_type": "stream",
          "name": "stderr",
          "text": [
            "/usr/local/lib/python3.9/dist-packages/sklearn/ensemble/_forest.py:413: FutureWarning: `max_features='auto'` has been deprecated in 1.1 and will be removed in 1.3. To keep the past behaviour, explicitly set `max_features=1.0` or remove this parameter as it is also the default value for RandomForestRegressors and ExtraTreesRegressors.\n",
            "  warn(\n"
          ]
        },
        {
          "output_type": "stream",
          "name": "stdout",
          "text": [
            "=== Fold RMSE Score [139070.6779820028] ===\n"
          ]
        },
        {
          "output_type": "stream",
          "name": "stderr",
          "text": [
            "/usr/local/lib/python3.9/dist-packages/sklearn/ensemble/_forest.py:413: FutureWarning: `max_features='auto'` has been deprecated in 1.1 and will be removed in 1.3. To keep the past behaviour, explicitly set `max_features=1.0` or remove this parameter as it is also the default value for RandomForestRegressors and ExtraTreesRegressors.\n",
            "  warn(\n"
          ]
        },
        {
          "output_type": "stream",
          "name": "stdout",
          "text": [
            "=== Fold RMSE Score [138828.52882396846] ===\n"
          ]
        },
        {
          "output_type": "stream",
          "name": "stderr",
          "text": [
            "/usr/local/lib/python3.9/dist-packages/sklearn/ensemble/_forest.py:413: FutureWarning: `max_features='auto'` has been deprecated in 1.1 and will be removed in 1.3. To keep the past behaviour, explicitly set `max_features=1.0` or remove this parameter as it is also the default value for RandomForestRegressors and ExtraTreesRegressors.\n",
            "  warn(\n"
          ]
        },
        {
          "output_type": "stream",
          "name": "stdout",
          "text": [
            "=== Fold RMSE Score [142372.59089199986] ===\n"
          ]
        },
        {
          "output_type": "stream",
          "name": "stderr",
          "text": [
            "/usr/local/lib/python3.9/dist-packages/sklearn/ensemble/_forest.py:413: FutureWarning: `max_features='auto'` has been deprecated in 1.1 and will be removed in 1.3. To keep the past behaviour, explicitly set `max_features=1.0` or remove this parameter as it is also the default value for RandomForestRegressors and ExtraTreesRegressors.\n",
            "  warn(\n"
          ]
        },
        {
          "output_type": "stream",
          "name": "stdout",
          "text": [
            "=== Fold RMSE Score [152427.43948602935] ===\n"
          ]
        },
        {
          "output_type": "stream",
          "name": "stderr",
          "text": [
            "/usr/local/lib/python3.9/dist-packages/sklearn/ensemble/_forest.py:413: FutureWarning: `max_features='auto'` has been deprecated in 1.1 and will be removed in 1.3. To keep the past behaviour, explicitly set `max_features=1.0` or remove this parameter as it is also the default value for RandomForestRegressors and ExtraTreesRegressors.\n",
            "  warn(\n"
          ]
        },
        {
          "output_type": "stream",
          "name": "stdout",
          "text": [
            "=== Fold RMSE Score [164839.6738971873] ===\n"
          ]
        },
        {
          "output_type": "stream",
          "name": "stderr",
          "text": [
            "/usr/local/lib/python3.9/dist-packages/sklearn/ensemble/_forest.py:413: FutureWarning: `max_features='auto'` has been deprecated in 1.1 and will be removed in 1.3. To keep the past behaviour, explicitly set `max_features=1.0` or remove this parameter as it is also the default value for RandomForestRegressors and ExtraTreesRegressors.\n",
            "  warn(\n"
          ]
        },
        {
          "output_type": "stream",
          "name": "stdout",
          "text": [
            "=== Fold RMSE Score [144277.32297873535] ===\n"
          ]
        },
        {
          "output_type": "stream",
          "name": "stderr",
          "text": [
            "/usr/local/lib/python3.9/dist-packages/sklearn/ensemble/_forest.py:413: FutureWarning: `max_features='auto'` has been deprecated in 1.1 and will be removed in 1.3. To keep the past behaviour, explicitly set `max_features=1.0` or remove this parameter as it is also the default value for RandomForestRegressors and ExtraTreesRegressors.\n",
            "  warn(\n"
          ]
        },
        {
          "output_type": "stream",
          "name": "stdout",
          "text": [
            "=== Fold RMSE Score [134434.48879052684] ===\n",
            "=== OOF score 145748.95357209136 ===\n"
          ]
        }
      ],
      "source": [
        "k = 10\n",
        "kf = KFold(k, shuffle=True, random_state=42)\n",
        "oof_preds = []\n",
        "oof_true = []\n",
        "\n",
        "for train_index, val_index in kf.split(X_train):                                            \n",
        "    X_train_cv = X_train.loc[train_index, :]\n",
        "    y_train_cv = y_train.loc[train_index, target].values.ravel()\n",
        "    X_val = X_train.loc[val_index, :]\n",
        "    y_val = y_train.loc[val_index, target].values.ravel()\n",
        "    params_rf ={'n_estimators': 309,\n",
        " 'max_depth': 36,\n",
        " 'min_samples_split': 5,\n",
        " 'min_samples_leaf': 1,\n",
        " 'min_impurity_decrease': 0,\n",
        " 'max_features': 'auto',\n",
        " 'max_samples': 51}\n",
        "    model = RandomForestRegressor(**params_rf)\n",
        "    model.fit(X_train_cv,\n",
        "             y_train_cv)\n",
        "    pred_val = model.predict(X_val)\n",
        "    pred_val = np.exp(pred_val)\n",
        "    y_val = np.exp(y_val)\n",
        "    score1 = get_rmse(y_val,pred_val)\n",
        "\n",
        "    \n",
        "    #out of fold\n",
        "    oof_preds.extend(pred_val)\n",
        "    oof_true.extend(y_val)\n",
        "    print(f'=== Fold RMSE Score {[score1]} ===')\n",
        "print(f'=== OOF score {get_rmse(oof_preds,oof_true)} ===')"
      ]
    },
    {
      "cell_type": "markdown",
      "metadata": {
        "id": "8IeYTyialWRK"
      },
      "source": [
        "### XGB"
      ]
    },
    {
      "cell_type": "code",
      "execution_count": 57,
      "metadata": {
        "colab": {
          "base_uri": "https://localhost:8080/"
        },
        "id": "LEx96HDG-Iq4",
        "outputId": "1a06a888-c69a-4bd9-8cfd-eecffebec567"
      },
      "outputs": [
        {
          "output_type": "stream",
          "name": "stdout",
          "text": [
            "[0]\tvalidation_0-rmse:11.67697\n",
            "[328]\tvalidation_0-rmse:0.16806\n",
            "=== Fold RMSE Score [91534.98428524398] ===\n",
            "[0]\tvalidation_0-rmse:11.69764\n"
          ]
        },
        {
          "output_type": "stream",
          "name": "stderr",
          "text": [
            "/usr/local/lib/python3.9/dist-packages/xgboost/sklearn.py:835: UserWarning: `early_stopping_rounds` in `fit` method is deprecated for better compatibility with scikit-learn, use `early_stopping_rounds` in constructor or`set_params` instead.\n",
            "  warnings.warn(\n"
          ]
        },
        {
          "output_type": "stream",
          "name": "stdout",
          "text": [
            "[318]\tvalidation_0-rmse:0.16820\n",
            "=== Fold RMSE Score [94684.61614280894] ===\n",
            "[0]\tvalidation_0-rmse:11.67414\n"
          ]
        },
        {
          "output_type": "stream",
          "name": "stderr",
          "text": [
            "/usr/local/lib/python3.9/dist-packages/xgboost/sklearn.py:835: UserWarning: `early_stopping_rounds` in `fit` method is deprecated for better compatibility with scikit-learn, use `early_stopping_rounds` in constructor or`set_params` instead.\n",
            "  warnings.warn(\n"
          ]
        },
        {
          "output_type": "stream",
          "name": "stdout",
          "text": [
            "[334]\tvalidation_0-rmse:0.16352\n",
            "=== Fold RMSE Score [79359.88349321498] ===\n",
            "[0]\tvalidation_0-rmse:11.66821\n"
          ]
        },
        {
          "output_type": "stream",
          "name": "stderr",
          "text": [
            "/usr/local/lib/python3.9/dist-packages/xgboost/sklearn.py:835: UserWarning: `early_stopping_rounds` in `fit` method is deprecated for better compatibility with scikit-learn, use `early_stopping_rounds` in constructor or`set_params` instead.\n",
            "  warnings.warn(\n"
          ]
        },
        {
          "output_type": "stream",
          "name": "stdout",
          "text": [
            "[331]\tvalidation_0-rmse:0.16304\n",
            "=== Fold RMSE Score [84456.5982375432] ===\n",
            "[0]\tvalidation_0-rmse:11.67839\n"
          ]
        },
        {
          "output_type": "stream",
          "name": "stderr",
          "text": [
            "/usr/local/lib/python3.9/dist-packages/xgboost/sklearn.py:835: UserWarning: `early_stopping_rounds` in `fit` method is deprecated for better compatibility with scikit-learn, use `early_stopping_rounds` in constructor or`set_params` instead.\n",
            "  warnings.warn(\n"
          ]
        },
        {
          "output_type": "stream",
          "name": "stdout",
          "text": [
            "[335]\tvalidation_0-rmse:0.16074\n",
            "=== Fold RMSE Score [77186.39870644036] ===\n",
            "[0]\tvalidation_0-rmse:11.69016\n"
          ]
        },
        {
          "output_type": "stream",
          "name": "stderr",
          "text": [
            "/usr/local/lib/python3.9/dist-packages/xgboost/sklearn.py:835: UserWarning: `early_stopping_rounds` in `fit` method is deprecated for better compatibility with scikit-learn, use `early_stopping_rounds` in constructor or`set_params` instead.\n",
            "  warnings.warn(\n"
          ]
        },
        {
          "output_type": "stream",
          "name": "stdout",
          "text": [
            "[339]\tvalidation_0-rmse:0.16448\n",
            "=== Fold RMSE Score [90735.22813104893] ===\n",
            "[0]\tvalidation_0-rmse:11.69468\n"
          ]
        },
        {
          "output_type": "stream",
          "name": "stderr",
          "text": [
            "/usr/local/lib/python3.9/dist-packages/xgboost/sklearn.py:835: UserWarning: `early_stopping_rounds` in `fit` method is deprecated for better compatibility with scikit-learn, use `early_stopping_rounds` in constructor or`set_params` instead.\n",
            "  warnings.warn(\n"
          ]
        },
        {
          "output_type": "stream",
          "name": "stdout",
          "text": [
            "[374]\tvalidation_0-rmse:0.16405\n",
            "=== Fold RMSE Score [95527.72208479667] ===\n",
            "[0]\tvalidation_0-rmse:11.68661\n"
          ]
        },
        {
          "output_type": "stream",
          "name": "stderr",
          "text": [
            "/usr/local/lib/python3.9/dist-packages/xgboost/sklearn.py:835: UserWarning: `early_stopping_rounds` in `fit` method is deprecated for better compatibility with scikit-learn, use `early_stopping_rounds` in constructor or`set_params` instead.\n",
            "  warnings.warn(\n"
          ]
        },
        {
          "output_type": "stream",
          "name": "stdout",
          "text": [
            "[352]\tvalidation_0-rmse:0.16448\n",
            "=== Fold RMSE Score [91674.67165262083] ===\n",
            "[0]\tvalidation_0-rmse:11.66745\n"
          ]
        },
        {
          "output_type": "stream",
          "name": "stderr",
          "text": [
            "/usr/local/lib/python3.9/dist-packages/xgboost/sklearn.py:835: UserWarning: `early_stopping_rounds` in `fit` method is deprecated for better compatibility with scikit-learn, use `early_stopping_rounds` in constructor or`set_params` instead.\n",
            "  warnings.warn(\n"
          ]
        },
        {
          "output_type": "stream",
          "name": "stdout",
          "text": [
            "[321]\tvalidation_0-rmse:0.17351\n",
            "=== Fold RMSE Score [96111.3062451594] ===\n",
            "[0]\tvalidation_0-rmse:11.65730\n"
          ]
        },
        {
          "output_type": "stream",
          "name": "stderr",
          "text": [
            "/usr/local/lib/python3.9/dist-packages/xgboost/sklearn.py:835: UserWarning: `early_stopping_rounds` in `fit` method is deprecated for better compatibility with scikit-learn, use `early_stopping_rounds` in constructor or`set_params` instead.\n",
            "  warnings.warn(\n"
          ]
        },
        {
          "output_type": "stream",
          "name": "stdout",
          "text": [
            "[314]\tvalidation_0-rmse:0.16722\n",
            "=== Fold RMSE Score [83536.2117217686] ===\n",
            "=== OOF score 88719.12573492223 ===\n"
          ]
        }
      ],
      "source": [
        "k=10\n",
        "kf = KFold(k, shuffle=True, random_state=42)\n",
        "oof_preds = []\n",
        "oof_true = []\n",
        "\n",
        "for train_index, val_index in kf.split(X_train):                                            \n",
        "    X_train_cv = X_train.loc[train_index, :]\n",
        "    y_train_cv = y_train.loc[train_index, target]\n",
        "    X_val = X_train.loc[val_index, :]\n",
        "    y_val = y_train.loc[val_index, target]\n",
        "    params_xgb = {'max_depth': 35, 'learning_rate': 0.06533528600930973, 'n_estimators': 3592,\n",
        "                  'alpha': 0.026555079799798875, 'subsample': 0.9929787822914418, }\n",
        "    model = xgb.XGBRegressor(**params_xgb)\n",
        "    model.fit(X_train_cv,\n",
        "             y_train_cv,\n",
        "             eval_set= [(X_val,y_val)],\n",
        "             early_stopping_rounds = 200,\n",
        "             verbose=1000)\n",
        "    pred_val = model.predict(X_val)\n",
        "    pred_val = np.exp(pred_val)\n",
        "    y_val = np.exp(y_val)\n",
        "    score1 = get_rmse(y_val,pred_val)\n",
        "\n",
        "    # 37 85k\n",
        "    #out of fold\n",
        "    oof_preds.extend(pred_val)\n",
        "    oof_true.extend(y_val)\n",
        "    print(f'=== Fold RMSE Score {[score1]} ===')\n",
        "print(f'=== OOF score {get_rmse(oof_preds,oof_true)} ===')"
      ]
    },
    {
      "cell_type": "markdown",
      "metadata": {
        "id": "gJpsmri0lb8j"
      },
      "source": [
        "### LGB"
      ]
    },
    {
      "cell_type": "code",
      "execution_count": 58,
      "metadata": {
        "colab": {
          "base_uri": "https://localhost:8080/"
        },
        "id": "zlhs7B8E-Xw6",
        "outputId": "217249f1-132d-4d56-fe15-4d585c9de044"
      },
      "outputs": [
        {
          "output_type": "stream",
          "name": "stdout",
          "text": [
            "Training until validation scores don't improve for 200 rounds.\n",
            "Did not meet early stopping. Best iteration is:\n",
            "[492]\tvalid_0's l2: 0.0250599\n",
            "=== Fold RMSE Score [82988.80061068313] ===\n",
            "Training until validation scores don't improve for 200 rounds.\n",
            "Did not meet early stopping. Best iteration is:\n",
            "[597]\tvalid_0's l2: 0.0251772\n",
            "=== Fold RMSE Score [90938.20890527741] ===\n",
            "Training until validation scores don't improve for 200 rounds.\n",
            "Early stopping, best iteration is:\n",
            "[398]\tvalid_0's l2: 0.0232816\n",
            "=== Fold RMSE Score [76031.18336830009] ===\n",
            "Training until validation scores don't improve for 200 rounds.\n",
            "Did not meet early stopping. Best iteration is:\n",
            "[626]\tvalid_0's l2: 0.0243751\n",
            "=== Fold RMSE Score [81766.57024230126] ===\n",
            "Training until validation scores don't improve for 200 rounds.\n",
            "Did not meet early stopping. Best iteration is:\n",
            "[665]\tvalid_0's l2: 0.0240917\n",
            "=== Fold RMSE Score [74414.47736614107] ===\n",
            "Training until validation scores don't improve for 200 rounds.\n",
            "Did not meet early stopping. Best iteration is:\n",
            "[659]\tvalid_0's l2: 0.0240278\n",
            "=== Fold RMSE Score [85045.64915349349] ===\n",
            "Training until validation scores don't improve for 200 rounds.\n",
            "Early stopping, best iteration is:\n",
            "[299]\tvalid_0's l2: 0.0234206\n",
            "=== Fold RMSE Score [88103.17886376423] ===\n",
            "Training until validation scores don't improve for 200 rounds.\n",
            "Early stopping, best iteration is:\n",
            "[457]\tvalid_0's l2: 0.0254618\n",
            "=== Fold RMSE Score [90086.70790656973] ===\n",
            "Training until validation scores don't improve for 200 rounds.\n",
            "Did not meet early stopping. Best iteration is:\n",
            "[637]\tvalid_0's l2: 0.0268268\n",
            "=== Fold RMSE Score [93202.62540323302] ===\n",
            "Training until validation scores don't improve for 200 rounds.\n",
            "Did not meet early stopping. Best iteration is:\n",
            "[640]\tvalid_0's l2: 0.025002\n",
            "=== Fold RMSE Score [78433.54827975435] ===\n",
            "=== OOF score 84326.76001486115 ===\n"
          ]
        }
      ],
      "source": [
        "k=10\n",
        "kf = KFold(k, shuffle=True, random_state=42)\n",
        "oof_preds = []\n",
        "oof_true = []\n",
        "\n",
        "for train_index, val_index in kf.split(X_train):                                            \n",
        "    X_train_cv = X_train.loc[train_index, :]\n",
        "    y_train_cv = y_train.loc[train_index, target]\n",
        "    X_val = X_train.loc[val_index, :]\n",
        "    y_val = y_train.loc[val_index, target]\n",
        "    params_lgbm = {'learning_rate': 0.039998235893948964,\n",
        "    'n_estimators': 674,\n",
        "    'max_depth': 11,\n",
        "    'reg_alpha    ': 0,\n",
        "    'reg_lambda    ': 0,\n",
        "    'n_cv': 10}\n",
        "    \n",
        "    model = lgbm.LGBMRegressor(**params_lgbm)\n",
        "    model.fit(X_train_cv,\n",
        "             y_train_cv,\n",
        "             eval_set= [(X_val,y_val)],\n",
        "             early_stopping_rounds = 200,\n",
        "             verbose=1000)\n",
        "    pred_val = model.predict(X_val)\n",
        "    pred_val = np.exp(pred_val)\n",
        "    y_val = np.exp(y_val)\n",
        "    score1 = get_rmse(y_val,pred_val)\n",
        "    \n",
        "    #out of fold\n",
        "    oof_preds.extend(pred_val)\n",
        "    oof_true.extend(y_val)\n",
        "    print(f'=== Fold RMSE Score {[score1]} ===')\n",
        "print(f'=== OOF score {get_rmse(oof_preds,oof_true)} ===')"
      ]
    },
    {
      "cell_type": "markdown",
      "metadata": {
        "id": "a6rArUfEHBR6"
      },
      "source": [
        "## Ensemble"
      ]
    },
    {
      "cell_type": "code",
      "source": [
        "xgbmodel = xgb.XGBRegressor(**params_xgb)\n",
        "xgbmodel.fit(X_train, y_train)\n",
        "y_pred_train = xgbmodel.predict(X_train)\n",
        "y_pred_test = xgbmodel.predict(X_test)\n",
        "\n",
        "print(\"On train\")\n",
        "print(\"R2: %.4f\" %r2_score(np.exp(y_train), np.exp(y_pred_train)))\n",
        "print(\"RMSE: %.4f\" % get_rmse(np.exp(y_train),np.exp(y_pred_train)))\n",
        "print()\n",
        "print(\"On test\")\n",
        "print(\"R2: %.4f\" %r2_score(np.exp(y_test), np.exp(y_pred_test)))\n",
        "print(\"RMSE: %.4f\" % get_rmse(np.exp(y_test),np.exp(y_pred_test)))\n",
        "print()"
      ],
      "metadata": {
        "colab": {
          "base_uri": "https://localhost:8080/"
        },
        "id": "9CHTfsJCXfbT",
        "outputId": "1c4c5c26-2fc9-4fff-d2af-08c166610533"
      },
      "execution_count": 59,
      "outputs": [
        {
          "output_type": "stream",
          "name": "stdout",
          "text": [
            "On train\n",
            "R2: 0.9984\n",
            "RMSE: 10028.9538\n",
            "\n",
            "On test\n",
            "R2: 0.8711\n",
            "RMSE: 88341.6207\n",
            "\n"
          ]
        }
      ]
    },
    {
      "cell_type": "code",
      "source": [
        "lgbmodel = lgbm.LGBMRegressor(**params_lgbm)\n",
        "lgbmodel.fit(X_train, y_train)\n",
        "y_pred_train = lgbmodel.predict(X_train)\n",
        "y_pred_test =  lgbmodel.predict(X_test)\n",
        "\n",
        "print(\"On train\")\n",
        "print(\"R2: %.4f\" %r2_score(np.exp(y_train), np.exp(y_pred_train)))\n",
        "print(\"RMSE: %.4f\" % get_rmse(np.exp(y_train),np.exp(y_pred_train)))\n",
        "print()\n",
        "print(\"On test\")\n",
        "print(\"R2: %.4f\" %r2_score(np.exp(y_test), np.exp(y_pred_test)))\n",
        "print(\"RMSE: %.4f\" % get_rmse(np.exp(y_test),np.exp(y_pred_test)))\n",
        "print()"
      ],
      "metadata": {
        "colab": {
          "base_uri": "https://localhost:8080/"
        },
        "id": "VBHuAfIaZ4B_",
        "outputId": "cdd791ae-9194-4b26-b098-7c883b8a55df"
      },
      "execution_count": 60,
      "outputs": [
        {
          "output_type": "stream",
          "name": "stdout",
          "text": [
            "On train\n",
            "R2: 0.9474\n",
            "RMSE: 58278.4052\n",
            "\n",
            "On test\n",
            "R2: 0.8848\n",
            "RMSE: 83516.8052\n",
            "\n"
          ]
        }
      ]
    },
    {
      "cell_type": "code",
      "source": [
        "dtmodel = DecisionTreeRegressor(**params_dt)\n",
        "dtmodel.fit(X_train, y_train)\n",
        "y_pred_train = dtmodel.predict(X_train)\n",
        "y_pred_test = dtmodel.predict(X_test)\n",
        "\n",
        "print(\"On train\")\n",
        "print(\"R2: %.4f\" %r2_score(np.exp(y_train), np.exp(y_pred_train)))\n",
        "print(\"RMSE: %.4f\" % get_rmse(np.exp(y_train),np.exp(y_pred_train)))\n",
        "print()\n",
        "print(\"On test\")\n",
        "print(\"R2: %.4f\" %r2_score(np.exp(y_test), np.exp(y_pred_test)))\n",
        "print(\"RMSE: %.4f\" % get_rmse(np.exp(y_test),np.exp(y_pred_test)))\n",
        "print()"
      ],
      "metadata": {
        "colab": {
          "base_uri": "https://localhost:8080/"
        },
        "id": "MCmTWGNeZcUL",
        "outputId": "7552d167-8302-4f7c-96bb-8ad76503e75e"
      },
      "execution_count": 61,
      "outputs": [
        {
          "output_type": "stream",
          "name": "stdout",
          "text": [
            "On train\n",
            "R2: 0.8974\n",
            "RMSE: 81382.2701\n",
            "\n",
            "On test\n",
            "R2: 0.8122\n",
            "RMSE: 106600.1522\n",
            "\n"
          ]
        }
      ]
    },
    {
      "cell_type": "markdown",
      "source": [
        "# Final Ensemble"
      ],
      "metadata": {
        "id": "FJLoKAbSaf3d"
      }
    },
    {
      "cell_type": "markdown",
      "source": [
        "The best models are kept and we reache a rmse of "
      ],
      "metadata": {
        "id": "4zGkw_fIan4K"
      }
    },
    {
      "cell_type": "code",
      "execution_count": 62,
      "metadata": {
        "colab": {
          "base_uri": "https://localhost:8080/"
        },
        "id": "_tolrRRHHD8P",
        "outputId": "3482ff9f-8adb-4346-ec94-6d80bf2f604e"
      },
      "outputs": [
        {
          "output_type": "stream",
          "name": "stderr",
          "text": [
            "/usr/local/lib/python3.9/dist-packages/sklearn/ensemble/_voting.py:597: DataConversionWarning: A column-vector y was passed when a 1d array was expected. Please change the shape of y to (n_samples, ), for example using ravel().\n",
            "  y = column_or_1d(y, warn=True)\n"
          ]
        },
        {
          "output_type": "stream",
          "name": "stdout",
          "text": [
            "On testing\n",
            "R2: 0.8829\n",
            "RMSE: 84203.0621\n",
            "\n"
          ]
        }
      ],
      "source": [
        "from sklearn.ensemble import VotingRegressor\n",
        "\n",
        "xgbmodel = xgb.XGBRegressor(**params_xgb)\n",
        "lgbmodel = lgbm.LGBMRegressor(**params_lgbm)\n",
        "dtmodel = DecisionTreeRegressor(**params_dt)\n",
        "ensemble = VotingRegressor([('gb', xgbmodel), ('rf', lgbmodel)])\n",
        "ensemble.fit(X_train, y_train)\n",
        "y_pred = ensemble.predict(X_test)\n",
        "y_pred = np.exp(y_pred)\n",
        "y_test = np.exp(y_test)\n",
        "\n",
        "print(\"On testing\")\n",
        "print(\"R2: %.4f\" %r2_score(y_test, y_pred))\n",
        "print(\"RMSE: %.4f\" % get_rmse(y_test,y_pred))\n",
        "print()\n"
      ]
    }
  ],
  "metadata": {
    "colab": {
      "collapsed_sections": [
        "buAZcMYDXjyW",
        "1XpjBdip1LwO",
        "zDgtQjtyJeB1",
        "BEShHsr-YZlv",
        "qiTPU0W1wv9q",
        "RlUH_UwV1sZf"
      ],
      "provenance": [],
      "include_colab_link": true
    },
    "kernelspec": {
      "display_name": "Python 3",
      "language": "python",
      "name": "python3"
    },
    "language_info": {
      "codemirror_mode": {
        "name": "ipython",
        "version": 3
      },
      "file_extension": ".py",
      "mimetype": "text/x-python",
      "name": "python",
      "nbconvert_exporter": "python",
      "pygments_lexer": "ipython3",
      "version": "3.6.3"
    }
  },
  "nbformat": 4,
  "nbformat_minor": 0
}