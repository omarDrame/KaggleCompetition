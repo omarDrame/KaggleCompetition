{
  "cells": [
    {
      "cell_type": "markdown",
      "metadata": {
        "id": "view-in-github",
        "colab_type": "text"
      },
      "source": [
        "<a href=\"https://colab.research.google.com/github/omarDrame/KaggleCompetition/blob/main/Compete.ipynb\" target=\"_parent\"><img src=\"https://colab.research.google.com/assets/colab-badge.svg\" alt=\"Open In Colab\"/></a>"
      ]
    },
    {
      "cell_type": "markdown",
      "metadata": {
        "id": "bZ_WMSSrW6Uh"
      },
      "source": [
        "# Challenge"
      ]
    },
    {
      "cell_type": "markdown",
      "metadata": {
        "id": "emvh-mLuW80Y"
      },
      "source": [
        "Season 6 Episode 3 \n",
        "\n",
        "https://www.kaggle.com/competitions/playground-series-s3e6/overview/description"
      ]
    },
    {
      "cell_type": "markdown",
      "metadata": {
        "id": "XNpc7FeWYpbj"
      },
      "source": [
        "Credit : \n",
        "- My work was inspired by the following notebook ⁉"
      ]
    },
    {
      "cell_type": "markdown",
      "metadata": {
        "id": "JyUHrVFNH8n_"
      },
      "source": [
        "# Install and import"
      ]
    },
    {
      "cell_type": "code",
      "execution_count": null,
      "metadata": {
        "id": "Td3tp6ZSNYOS"
      },
      "outputs": [],
      "source": [
        "import numpy as np\n",
        "import pandas as pd \n",
        "from matplotlib import pyplot as plt\n",
        "from sklearn.metrics import mean_squared_error\n",
        "from math import sqrt\n",
        "from sklearn.neighbors import KNeighborsRegressor\n",
        "from sklearn.model_selection import KFold\n",
        "from sklearn.metrics import accuracy_score\n",
        "import seaborn as sns\n",
        "from sklearn.ensemble import RandomForestRegressor\n",
        "from sklearn.decomposition import PCA\n",
        "from sklearn.linear_model import LassoCV\n",
        "from sklearn.model_selection import StratifiedKFold, cross_val_score, train_test_split\n",
        "import xgboost as xgb \n",
        "import lightgbm as lgbm\n",
        "import optuna\n",
        "import warnings\n",
        "warnings.simplefilter('ignore')"
      ]
    },
    {
      "cell_type": "code",
      "execution_count": null,
      "metadata": {
        "colab": {
          "base_uri": "https://localhost:8080/"
        },
        "id": "EInuB1cJN5fx",
        "outputId": "cff0f828-b1a3-4f8b-94c1-06ccfbb0022c"
      },
      "outputs": [
        {
          "name": "stdout",
          "output_type": "stream",
          "text": [
            "Drive already mounted at /content/drive; to attempt to forcibly remount, call drive.mount(\"/content/drive\", force_remount=True).\n"
          ]
        }
      ],
      "source": [
        "from google.colab import drive\n",
        "drive.mount('/content/drive')"
      ]
    },
    {
      "cell_type": "markdown",
      "metadata": {
        "id": "kTf2EBIlQYkT"
      },
      "source": [
        "# Data Loading"
      ]
    },
    {
      "cell_type": "code",
      "execution_count": null,
      "metadata": {
        "id": "CwJ3vSf3a2E7"
      },
      "outputs": [],
      "source": [
        "path = '/content/drive/My Drive/Dev/Kaggle2/'\n",
        "# getting train data set\n",
        "train = pd.read_csv(path +'train.csv').drop('id',axis=1)\n",
        "target = 'price'\n",
        "features = [c for c in train.columns if c not in [ target]]\n",
        "# adding secondary data set\n",
        "plus_train = pd.read_csv(\"/content/drive/My Drive/Dev/Kaggle2/add.csv\")\n",
        "train = pd.concat([train,plus_train]).reset_index(drop=True)\n",
        "\n",
        "# Merging the whole data set\n",
        "train['split']= 'train'\n",
        "test = pd.read_csv(path +'test.csv').drop('id',axis=1)\n",
        "test['split'] = 'test'\n",
        "data = pd.concat([train,test]).reset_index(drop=True)\n",
        "sub = pd.read_csv(path +'sample_submission.csv')"
      ]
    },
    {
      "cell_type": "code",
      "execution_count": null,
      "metadata": {
        "colab": {
          "base_uri": "https://localhost:8080/"
        },
        "id": "fGShe_fgfkO1",
        "outputId": "168a94a8-00c4-48a5-c78a-f26ecf2af04e"
      },
      "outputs": [
        {
          "name": "stdout",
          "output_type": "stream",
          "text": [
            "(47884, 18)\n"
          ]
        },
        {
          "data": {
            "text/plain": [
              "(47883, 18)"
            ]
          },
          "execution_count": 5,
          "metadata": {},
          "output_type": "execute_result"
        }
      ],
      "source": [
        "# Only one duplicated value, we're going to neglect it\n",
        "print(data.shape)\n",
        "data = data[~data.duplicated()]\n",
        "data.shape"
      ]
    },
    {
      "cell_type": "markdown",
      "metadata": {
        "id": "ejZXDLETRjw6"
      },
      "source": [
        "# Preprocessing"
      ]
    },
    {
      "cell_type": "markdown",
      "metadata": {
        "id": "JaO9aJ0WOEtV"
      },
      "source": [
        "Only int variables, same length, seems clean"
      ]
    },
    {
      "cell_type": "code",
      "execution_count": null,
      "metadata": {
        "colab": {
          "base_uri": "https://localhost:8080/"
        },
        "id": "DFkWPM8HN53u",
        "outputId": "97293c4b-a4de-4bb3-e021-2480c2cd02bd"
      },
      "outputs": [
        {
          "name": "stdout",
          "output_type": "stream",
          "text": [
            "<class 'pandas.core.frame.DataFrame'>\n",
            "Int64Index: 47883 entries, 0 to 47883\n",
            "Data columns (total 18 columns):\n",
            " #   Column             Non-Null Count  Dtype  \n",
            "---  ------             --------------  -----  \n",
            " 0   squareMeters       47883 non-null  int64  \n",
            " 1   numberOfRooms      47883 non-null  int64  \n",
            " 2   hasYard            47883 non-null  int64  \n",
            " 3   hasPool            47883 non-null  int64  \n",
            " 4   floors             47883 non-null  int64  \n",
            " 5   cityCode           47883 non-null  int64  \n",
            " 6   cityPartRange      47883 non-null  int64  \n",
            " 7   numPrevOwners      47883 non-null  int64  \n",
            " 8   made               47883 non-null  int64  \n",
            " 9   isNewBuilt         47883 non-null  int64  \n",
            " 10  hasStormProtector  47883 non-null  int64  \n",
            " 11  basement           47883 non-null  int64  \n",
            " 12  attic              47883 non-null  int64  \n",
            " 13  garage             47883 non-null  int64  \n",
            " 14  hasStorageRoom     47883 non-null  int64  \n",
            " 15  hasGuestRoom       47883 non-null  int64  \n",
            " 16  price              32729 non-null  float64\n",
            " 17  split              47883 non-null  object \n",
            "dtypes: float64(1), int64(16), object(1)\n",
            "memory usage: 6.9+ MB\n"
          ]
        }
      ],
      "source": [
        "data.info()"
      ]
    },
    {
      "cell_type": "code",
      "execution_count": null,
      "metadata": {
        "colab": {
          "base_uri": "https://localhost:8080/",
          "height": 270
        },
        "id": "GdQAoUNgQhMY",
        "outputId": "b16ec883-4c96-4fa1-a4ff-b53e93de9d36"
      },
      "outputs": [
        {
          "data": {
            "text/html": [
              "\n",
              "  <div id=\"df-2bc2ad0f-a651-469b-af48-1f86705c9b62\">\n",
              "    <div class=\"colab-df-container\">\n",
              "      <div>\n",
              "<style scoped>\n",
              "    .dataframe tbody tr th:only-of-type {\n",
              "        vertical-align: middle;\n",
              "    }\n",
              "\n",
              "    .dataframe tbody tr th {\n",
              "        vertical-align: top;\n",
              "    }\n",
              "\n",
              "    .dataframe thead th {\n",
              "        text-align: right;\n",
              "    }\n",
              "</style>\n",
              "<table border=\"1\" class=\"dataframe\">\n",
              "  <thead>\n",
              "    <tr style=\"text-align: right;\">\n",
              "      <th></th>\n",
              "      <th>squareMeters</th>\n",
              "      <th>numberOfRooms</th>\n",
              "      <th>hasYard</th>\n",
              "      <th>hasPool</th>\n",
              "      <th>floors</th>\n",
              "      <th>cityCode</th>\n",
              "      <th>cityPartRange</th>\n",
              "      <th>numPrevOwners</th>\n",
              "      <th>made</th>\n",
              "      <th>isNewBuilt</th>\n",
              "      <th>hasStormProtector</th>\n",
              "      <th>basement</th>\n",
              "      <th>attic</th>\n",
              "      <th>garage</th>\n",
              "      <th>hasStorageRoom</th>\n",
              "      <th>hasGuestRoom</th>\n",
              "      <th>price</th>\n",
              "      <th>split</th>\n",
              "    </tr>\n",
              "  </thead>\n",
              "  <tbody>\n",
              "    <tr>\n",
              "      <th>0</th>\n",
              "      <td>34291</td>\n",
              "      <td>24</td>\n",
              "      <td>1</td>\n",
              "      <td>0</td>\n",
              "      <td>47</td>\n",
              "      <td>35693</td>\n",
              "      <td>2</td>\n",
              "      <td>1</td>\n",
              "      <td>2000</td>\n",
              "      <td>0</td>\n",
              "      <td>1</td>\n",
              "      <td>8</td>\n",
              "      <td>5196</td>\n",
              "      <td>369</td>\n",
              "      <td>0</td>\n",
              "      <td>3</td>\n",
              "      <td>3436795.2</td>\n",
              "      <td>train</td>\n",
              "    </tr>\n",
              "    <tr>\n",
              "      <th>1</th>\n",
              "      <td>95145</td>\n",
              "      <td>60</td>\n",
              "      <td>0</td>\n",
              "      <td>1</td>\n",
              "      <td>60</td>\n",
              "      <td>34773</td>\n",
              "      <td>1</td>\n",
              "      <td>4</td>\n",
              "      <td>2000</td>\n",
              "      <td>0</td>\n",
              "      <td>1</td>\n",
              "      <td>729</td>\n",
              "      <td>4496</td>\n",
              "      <td>277</td>\n",
              "      <td>0</td>\n",
              "      <td>6</td>\n",
              "      <td>9519958.0</td>\n",
              "      <td>train</td>\n",
              "    </tr>\n",
              "    <tr>\n",
              "      <th>2</th>\n",
              "      <td>92661</td>\n",
              "      <td>45</td>\n",
              "      <td>1</td>\n",
              "      <td>1</td>\n",
              "      <td>62</td>\n",
              "      <td>45457</td>\n",
              "      <td>4</td>\n",
              "      <td>8</td>\n",
              "      <td>2020</td>\n",
              "      <td>1</td>\n",
              "      <td>1</td>\n",
              "      <td>7473</td>\n",
              "      <td>8953</td>\n",
              "      <td>245</td>\n",
              "      <td>1</td>\n",
              "      <td>9</td>\n",
              "      <td>9276448.1</td>\n",
              "      <td>train</td>\n",
              "    </tr>\n",
              "    <tr>\n",
              "      <th>3</th>\n",
              "      <td>97184</td>\n",
              "      <td>99</td>\n",
              "      <td>0</td>\n",
              "      <td>0</td>\n",
              "      <td>59</td>\n",
              "      <td>15113</td>\n",
              "      <td>1</td>\n",
              "      <td>1</td>\n",
              "      <td>2000</td>\n",
              "      <td>0</td>\n",
              "      <td>1</td>\n",
              "      <td>6424</td>\n",
              "      <td>8522</td>\n",
              "      <td>256</td>\n",
              "      <td>1</td>\n",
              "      <td>9</td>\n",
              "      <td>9725732.2</td>\n",
              "      <td>train</td>\n",
              "    </tr>\n",
              "    <tr>\n",
              "      <th>4</th>\n",
              "      <td>61752</td>\n",
              "      <td>100</td>\n",
              "      <td>0</td>\n",
              "      <td>0</td>\n",
              "      <td>57</td>\n",
              "      <td>64245</td>\n",
              "      <td>8</td>\n",
              "      <td>4</td>\n",
              "      <td>2018</td>\n",
              "      <td>1</td>\n",
              "      <td>0</td>\n",
              "      <td>7151</td>\n",
              "      <td>2786</td>\n",
              "      <td>863</td>\n",
              "      <td>0</td>\n",
              "      <td>7</td>\n",
              "      <td>6181908.8</td>\n",
              "      <td>train</td>\n",
              "    </tr>\n",
              "  </tbody>\n",
              "</table>\n",
              "</div>\n",
              "      <button class=\"colab-df-convert\" onclick=\"convertToInteractive('df-2bc2ad0f-a651-469b-af48-1f86705c9b62')\"\n",
              "              title=\"Convert this dataframe to an interactive table.\"\n",
              "              style=\"display:none;\">\n",
              "        \n",
              "  <svg xmlns=\"http://www.w3.org/2000/svg\" height=\"24px\"viewBox=\"0 0 24 24\"\n",
              "       width=\"24px\">\n",
              "    <path d=\"M0 0h24v24H0V0z\" fill=\"none\"/>\n",
              "    <path d=\"M18.56 5.44l.94 2.06.94-2.06 2.06-.94-2.06-.94-.94-2.06-.94 2.06-2.06.94zm-11 1L8.5 8.5l.94-2.06 2.06-.94-2.06-.94L8.5 2.5l-.94 2.06-2.06.94zm10 10l.94 2.06.94-2.06 2.06-.94-2.06-.94-.94-2.06-.94 2.06-2.06.94z\"/><path d=\"M17.41 7.96l-1.37-1.37c-.4-.4-.92-.59-1.43-.59-.52 0-1.04.2-1.43.59L10.3 9.45l-7.72 7.72c-.78.78-.78 2.05 0 2.83L4 21.41c.39.39.9.59 1.41.59.51 0 1.02-.2 1.41-.59l7.78-7.78 2.81-2.81c.8-.78.8-2.07 0-2.86zM5.41 20L4 18.59l7.72-7.72 1.47 1.35L5.41 20z\"/>\n",
              "  </svg>\n",
              "      </button>\n",
              "      \n",
              "  <style>\n",
              "    .colab-df-container {\n",
              "      display:flex;\n",
              "      flex-wrap:wrap;\n",
              "      gap: 12px;\n",
              "    }\n",
              "\n",
              "    .colab-df-convert {\n",
              "      background-color: #E8F0FE;\n",
              "      border: none;\n",
              "      border-radius: 50%;\n",
              "      cursor: pointer;\n",
              "      display: none;\n",
              "      fill: #1967D2;\n",
              "      height: 32px;\n",
              "      padding: 0 0 0 0;\n",
              "      width: 32px;\n",
              "    }\n",
              "\n",
              "    .colab-df-convert:hover {\n",
              "      background-color: #E2EBFA;\n",
              "      box-shadow: 0px 1px 2px rgba(60, 64, 67, 0.3), 0px 1px 3px 1px rgba(60, 64, 67, 0.15);\n",
              "      fill: #174EA6;\n",
              "    }\n",
              "\n",
              "    [theme=dark] .colab-df-convert {\n",
              "      background-color: #3B4455;\n",
              "      fill: #D2E3FC;\n",
              "    }\n",
              "\n",
              "    [theme=dark] .colab-df-convert:hover {\n",
              "      background-color: #434B5C;\n",
              "      box-shadow: 0px 1px 3px 1px rgba(0, 0, 0, 0.15);\n",
              "      filter: drop-shadow(0px 1px 2px rgba(0, 0, 0, 0.3));\n",
              "      fill: #FFFFFF;\n",
              "    }\n",
              "  </style>\n",
              "\n",
              "      <script>\n",
              "        const buttonEl =\n",
              "          document.querySelector('#df-2bc2ad0f-a651-469b-af48-1f86705c9b62 button.colab-df-convert');\n",
              "        buttonEl.style.display =\n",
              "          google.colab.kernel.accessAllowed ? 'block' : 'none';\n",
              "\n",
              "        async function convertToInteractive(key) {\n",
              "          const element = document.querySelector('#df-2bc2ad0f-a651-469b-af48-1f86705c9b62');\n",
              "          const dataTable =\n",
              "            await google.colab.kernel.invokeFunction('convertToInteractive',\n",
              "                                                     [key], {});\n",
              "          if (!dataTable) return;\n",
              "\n",
              "          const docLinkHtml = 'Like what you see? Visit the ' +\n",
              "            '<a target=\"_blank\" href=https://colab.research.google.com/notebooks/data_table.ipynb>data table notebook</a>'\n",
              "            + ' to learn more about interactive tables.';\n",
              "          element.innerHTML = '';\n",
              "          dataTable['output_type'] = 'display_data';\n",
              "          await google.colab.output.renderOutput(dataTable, element);\n",
              "          const docLink = document.createElement('div');\n",
              "          docLink.innerHTML = docLinkHtml;\n",
              "          element.appendChild(docLink);\n",
              "        }\n",
              "      </script>\n",
              "    </div>\n",
              "  </div>\n",
              "  "
            ],
            "text/plain": [
              "   squareMeters  numberOfRooms  hasYard  hasPool  floors  cityCode  \\\n",
              "0         34291             24        1        0      47     35693   \n",
              "1         95145             60        0        1      60     34773   \n",
              "2         92661             45        1        1      62     45457   \n",
              "3         97184             99        0        0      59     15113   \n",
              "4         61752            100        0        0      57     64245   \n",
              "\n",
              "   cityPartRange  numPrevOwners  made  isNewBuilt  hasStormProtector  \\\n",
              "0              2              1  2000           0                  1   \n",
              "1              1              4  2000           0                  1   \n",
              "2              4              8  2020           1                  1   \n",
              "3              1              1  2000           0                  1   \n",
              "4              8              4  2018           1                  0   \n",
              "\n",
              "   basement  attic  garage  hasStorageRoom  hasGuestRoom      price  split  \n",
              "0         8   5196     369               0             3  3436795.2  train  \n",
              "1       729   4496     277               0             6  9519958.0  train  \n",
              "2      7473   8953     245               1             9  9276448.1  train  \n",
              "3      6424   8522     256               1             9  9725732.2  train  \n",
              "4      7151   2786     863               0             7  6181908.8  train  "
            ]
          },
          "execution_count": 7,
          "metadata": {},
          "output_type": "execute_result"
        }
      ],
      "source": [
        "data.head()"
      ]
    },
    {
      "cell_type": "markdown",
      "metadata": {
        "id": "7_an7Th8v-3o"
      },
      "source": [
        "## Real features"
      ]
    },
    {
      "cell_type": "code",
      "execution_count": null,
      "metadata": {
        "id": "4TyIx6aJwBBA"
      },
      "outputs": [],
      "source": [
        "features = [f for f in train.columns if f not in ['split', target]]\n"
      ]
    },
    {
      "cell_type": "markdown",
      "metadata": {
        "id": "VZHHvgu8-bBK"
      },
      "source": [
        "## Feature ing"
      ]
    },
    {
      "cell_type": "markdown",
      "source": [
        "This column only brings noise to the model"
      ],
      "metadata": {
        "id": "V3NTodoISWIn"
      }
    },
    {
      "cell_type": "code",
      "execution_count": null,
      "metadata": {
        "colab": {
          "base_uri": "https://localhost:8080/",
          "height": 704
        },
        "id": "hsrd4n06-ulL",
        "outputId": "3ab038cd-8a0e-445d-e1ab-4983030e0ee9"
      },
      "outputs": [
        {
          "name": "stdout",
          "output_type": "stream",
          "text": [
            "<class 'pandas.core.frame.DataFrame'>\n",
            "Int64Index: 47883 entries, 0 to 47883\n",
            "Data columns (total 18 columns):\n",
            " #   Column             Non-Null Count  Dtype  \n",
            "---  ------             --------------  -----  \n",
            " 0   squareMeters       47883 non-null  int64  \n",
            " 1   numberOfRooms      47883 non-null  int64  \n",
            " 2   hasYard            47883 non-null  int64  \n",
            " 3   hasPool            47883 non-null  int64  \n",
            " 4   floors             47883 non-null  int64  \n",
            " 5   cityCode           47883 non-null  int64  \n",
            " 6   cityPartRange      47883 non-null  int64  \n",
            " 7   numPrevOwners      47883 non-null  int64  \n",
            " 8   made               47883 non-null  int64  \n",
            " 9   isNewBuilt         47883 non-null  int64  \n",
            " 10  hasStormProtector  47883 non-null  int64  \n",
            " 11  basement           47883 non-null  int64  \n",
            " 12  attic              47883 non-null  int64  \n",
            " 13  garage             47883 non-null  int64  \n",
            " 14  hasStorageRoom     47883 non-null  int64  \n",
            " 15  hasGuestRoom       47883 non-null  int64  \n",
            " 16  price              32729 non-null  float64\n",
            " 17  split              47883 non-null  object \n",
            "dtypes: float64(1), int64(16), object(1)\n",
            "memory usage: 6.9+ MB\n"
          ]
        },
        {
          "data": {
            "text/html": [
              "\n",
              "  <div id=\"df-d67dbe09-d99f-4f3a-9472-72114e1a0f0f\">\n",
              "    <div class=\"colab-df-container\">\n",
              "      <div>\n",
              "<style scoped>\n",
              "    .dataframe tbody tr th:only-of-type {\n",
              "        vertical-align: middle;\n",
              "    }\n",
              "\n",
              "    .dataframe tbody tr th {\n",
              "        vertical-align: top;\n",
              "    }\n",
              "\n",
              "    .dataframe thead th {\n",
              "        text-align: right;\n",
              "    }\n",
              "</style>\n",
              "<table border=\"1\" class=\"dataframe\">\n",
              "  <thead>\n",
              "    <tr style=\"text-align: right;\">\n",
              "      <th></th>\n",
              "      <th>squareMeters</th>\n",
              "      <th>numberOfRooms</th>\n",
              "      <th>hasYard</th>\n",
              "      <th>hasPool</th>\n",
              "      <th>floors</th>\n",
              "      <th>cityPartRange</th>\n",
              "      <th>numPrevOwners</th>\n",
              "      <th>made</th>\n",
              "      <th>isNewBuilt</th>\n",
              "      <th>hasStormProtector</th>\n",
              "      <th>basement</th>\n",
              "      <th>attic</th>\n",
              "      <th>garage</th>\n",
              "      <th>hasStorageRoom</th>\n",
              "      <th>hasGuestRoom</th>\n",
              "      <th>price</th>\n",
              "      <th>split</th>\n",
              "    </tr>\n",
              "  </thead>\n",
              "  <tbody>\n",
              "    <tr>\n",
              "      <th>0</th>\n",
              "      <td>34291</td>\n",
              "      <td>24</td>\n",
              "      <td>1</td>\n",
              "      <td>0</td>\n",
              "      <td>47</td>\n",
              "      <td>2</td>\n",
              "      <td>1</td>\n",
              "      <td>2000</td>\n",
              "      <td>0</td>\n",
              "      <td>1</td>\n",
              "      <td>8</td>\n",
              "      <td>5196</td>\n",
              "      <td>369</td>\n",
              "      <td>0</td>\n",
              "      <td>3</td>\n",
              "      <td>3436795.2</td>\n",
              "      <td>train</td>\n",
              "    </tr>\n",
              "    <tr>\n",
              "      <th>1</th>\n",
              "      <td>95145</td>\n",
              "      <td>60</td>\n",
              "      <td>0</td>\n",
              "      <td>1</td>\n",
              "      <td>60</td>\n",
              "      <td>1</td>\n",
              "      <td>4</td>\n",
              "      <td>2000</td>\n",
              "      <td>0</td>\n",
              "      <td>1</td>\n",
              "      <td>729</td>\n",
              "      <td>4496</td>\n",
              "      <td>277</td>\n",
              "      <td>0</td>\n",
              "      <td>6</td>\n",
              "      <td>9519958.0</td>\n",
              "      <td>train</td>\n",
              "    </tr>\n",
              "    <tr>\n",
              "      <th>2</th>\n",
              "      <td>92661</td>\n",
              "      <td>45</td>\n",
              "      <td>1</td>\n",
              "      <td>1</td>\n",
              "      <td>62</td>\n",
              "      <td>4</td>\n",
              "      <td>8</td>\n",
              "      <td>2020</td>\n",
              "      <td>1</td>\n",
              "      <td>1</td>\n",
              "      <td>7473</td>\n",
              "      <td>8953</td>\n",
              "      <td>245</td>\n",
              "      <td>1</td>\n",
              "      <td>9</td>\n",
              "      <td>9276448.1</td>\n",
              "      <td>train</td>\n",
              "    </tr>\n",
              "    <tr>\n",
              "      <th>3</th>\n",
              "      <td>97184</td>\n",
              "      <td>99</td>\n",
              "      <td>0</td>\n",
              "      <td>0</td>\n",
              "      <td>59</td>\n",
              "      <td>1</td>\n",
              "      <td>1</td>\n",
              "      <td>2000</td>\n",
              "      <td>0</td>\n",
              "      <td>1</td>\n",
              "      <td>6424</td>\n",
              "      <td>8522</td>\n",
              "      <td>256</td>\n",
              "      <td>1</td>\n",
              "      <td>9</td>\n",
              "      <td>9725732.2</td>\n",
              "      <td>train</td>\n",
              "    </tr>\n",
              "    <tr>\n",
              "      <th>4</th>\n",
              "      <td>61752</td>\n",
              "      <td>100</td>\n",
              "      <td>0</td>\n",
              "      <td>0</td>\n",
              "      <td>57</td>\n",
              "      <td>8</td>\n",
              "      <td>4</td>\n",
              "      <td>2018</td>\n",
              "      <td>1</td>\n",
              "      <td>0</td>\n",
              "      <td>7151</td>\n",
              "      <td>2786</td>\n",
              "      <td>863</td>\n",
              "      <td>0</td>\n",
              "      <td>7</td>\n",
              "      <td>6181908.8</td>\n",
              "      <td>train</td>\n",
              "    </tr>\n",
              "  </tbody>\n",
              "</table>\n",
              "</div>\n",
              "      <button class=\"colab-df-convert\" onclick=\"convertToInteractive('df-d67dbe09-d99f-4f3a-9472-72114e1a0f0f')\"\n",
              "              title=\"Convert this dataframe to an interactive table.\"\n",
              "              style=\"display:none;\">\n",
              "        \n",
              "  <svg xmlns=\"http://www.w3.org/2000/svg\" height=\"24px\"viewBox=\"0 0 24 24\"\n",
              "       width=\"24px\">\n",
              "    <path d=\"M0 0h24v24H0V0z\" fill=\"none\"/>\n",
              "    <path d=\"M18.56 5.44l.94 2.06.94-2.06 2.06-.94-2.06-.94-.94-2.06-.94 2.06-2.06.94zm-11 1L8.5 8.5l.94-2.06 2.06-.94-2.06-.94L8.5 2.5l-.94 2.06-2.06.94zm10 10l.94 2.06.94-2.06 2.06-.94-2.06-.94-.94-2.06-.94 2.06-2.06.94z\"/><path d=\"M17.41 7.96l-1.37-1.37c-.4-.4-.92-.59-1.43-.59-.52 0-1.04.2-1.43.59L10.3 9.45l-7.72 7.72c-.78.78-.78 2.05 0 2.83L4 21.41c.39.39.9.59 1.41.59.51 0 1.02-.2 1.41-.59l7.78-7.78 2.81-2.81c.8-.78.8-2.07 0-2.86zM5.41 20L4 18.59l7.72-7.72 1.47 1.35L5.41 20z\"/>\n",
              "  </svg>\n",
              "      </button>\n",
              "      \n",
              "  <style>\n",
              "    .colab-df-container {\n",
              "      display:flex;\n",
              "      flex-wrap:wrap;\n",
              "      gap: 12px;\n",
              "    }\n",
              "\n",
              "    .colab-df-convert {\n",
              "      background-color: #E8F0FE;\n",
              "      border: none;\n",
              "      border-radius: 50%;\n",
              "      cursor: pointer;\n",
              "      display: none;\n",
              "      fill: #1967D2;\n",
              "      height: 32px;\n",
              "      padding: 0 0 0 0;\n",
              "      width: 32px;\n",
              "    }\n",
              "\n",
              "    .colab-df-convert:hover {\n",
              "      background-color: #E2EBFA;\n",
              "      box-shadow: 0px 1px 2px rgba(60, 64, 67, 0.3), 0px 1px 3px 1px rgba(60, 64, 67, 0.15);\n",
              "      fill: #174EA6;\n",
              "    }\n",
              "\n",
              "    [theme=dark] .colab-df-convert {\n",
              "      background-color: #3B4455;\n",
              "      fill: #D2E3FC;\n",
              "    }\n",
              "\n",
              "    [theme=dark] .colab-df-convert:hover {\n",
              "      background-color: #434B5C;\n",
              "      box-shadow: 0px 1px 3px 1px rgba(0, 0, 0, 0.15);\n",
              "      filter: drop-shadow(0px 1px 2px rgba(0, 0, 0, 0.3));\n",
              "      fill: #FFFFFF;\n",
              "    }\n",
              "  </style>\n",
              "\n",
              "      <script>\n",
              "        const buttonEl =\n",
              "          document.querySelector('#df-d67dbe09-d99f-4f3a-9472-72114e1a0f0f button.colab-df-convert');\n",
              "        buttonEl.style.display =\n",
              "          google.colab.kernel.accessAllowed ? 'block' : 'none';\n",
              "\n",
              "        async function convertToInteractive(key) {\n",
              "          const element = document.querySelector('#df-d67dbe09-d99f-4f3a-9472-72114e1a0f0f');\n",
              "          const dataTable =\n",
              "            await google.colab.kernel.invokeFunction('convertToInteractive',\n",
              "                                                     [key], {});\n",
              "          if (!dataTable) return;\n",
              "\n",
              "          const docLinkHtml = 'Like what you see? Visit the ' +\n",
              "            '<a target=\"_blank\" href=https://colab.research.google.com/notebooks/data_table.ipynb>data table notebook</a>'\n",
              "            + ' to learn more about interactive tables.';\n",
              "          element.innerHTML = '';\n",
              "          dataTable['output_type'] = 'display_data';\n",
              "          await google.colab.output.renderOutput(dataTable, element);\n",
              "          const docLink = document.createElement('div');\n",
              "          docLink.innerHTML = docLinkHtml;\n",
              "          element.appendChild(docLink);\n",
              "        }\n",
              "      </script>\n",
              "    </div>\n",
              "  </div>\n",
              "  "
            ],
            "text/plain": [
              "   squareMeters  numberOfRooms  hasYard  hasPool  floors  cityPartRange  \\\n",
              "0         34291             24        1        0      47              2   \n",
              "1         95145             60        0        1      60              1   \n",
              "2         92661             45        1        1      62              4   \n",
              "3         97184             99        0        0      59              1   \n",
              "4         61752            100        0        0      57              8   \n",
              "\n",
              "   numPrevOwners  made  isNewBuilt  hasStormProtector  basement  attic  \\\n",
              "0              1  2000           0                  1         8   5196   \n",
              "1              4  2000           0                  1       729   4496   \n",
              "2              8  2020           1                  1      7473   8953   \n",
              "3              1  2000           0                  1      6424   8522   \n",
              "4              4  2018           1                  0      7151   2786   \n",
              "\n",
              "   garage  hasStorageRoom  hasGuestRoom      price  split  \n",
              "0     369               0             3  3436795.2  train  \n",
              "1     277               0             6  9519958.0  train  \n",
              "2     245               1             9  9276448.1  train  \n",
              "3     256               1             9  9725732.2  train  \n",
              "4     863               0             7  6181908.8  train  "
            ]
          },
          "execution_count": 9,
          "metadata": {},
          "output_type": "execute_result"
        }
      ],
      "source": [
        "data.info()\n",
        "data = data.drop('cityCode',axis=1)\n",
        "train = train.drop('cityCode',axis=1)\n",
        "test = test.drop('cityCode',axis=1)\n",
        "train.head()\n"
      ]
    },
    {
      "cell_type": "code",
      "execution_count": null,
      "metadata": {
        "id": "XtZpGeT6CQ9a"
      },
      "outputs": [],
      "source": [
        "features = [f for f in train.columns if f not in ['split', target]]"
      ]
    },
    {
      "cell_type": "markdown",
      "metadata": {
        "id": "9bU_UjVSAOZU"
      },
      "source": [
        "## Outliers"
      ]
    },
    {
      "cell_type": "markdown",
      "source": [
        "We remove ouliers using the \"2.5 sigma method\""
      ],
      "metadata": {
        "id": "FfioSd_WSdvs"
      }
    },
    {
      "cell_type": "code",
      "source": [],
      "metadata": {
        "id": "2O5-XIdOSddz"
      },
      "execution_count": null,
      "outputs": []
    },
    {
      "cell_type": "code",
      "execution_count": null,
      "metadata": {
        "colab": {
          "base_uri": "https://localhost:8080/"
        },
        "id": "qlKBO15zCCAG",
        "outputId": "56e78463-910c-4009-89e1-ee5fd2e2298c"
      },
      "outputs": [
        {
          "name": "stdout",
          "output_type": "stream",
          "text": [
            "       squareMeters  numberOfRooms       hasYard       hasPool        floors  \\\n",
            "count  4.788300e+04   47883.000000  47883.000000  47883.000000  47883.000000   \n",
            "mean   4.700141e+04      48.567362      0.485120      0.459620     47.639475   \n",
            "std    4.011402e+04      28.346171      0.499784      0.498372     38.607340   \n",
            "min    6.900000e+01       1.000000      0.000000      0.000000      1.000000   \n",
            "25%    2.097800e+04      25.000000      0.000000      0.000000     25.000000   \n",
            "50%    4.533900e+04      47.000000      0.000000      0.000000     46.000000   \n",
            "75%    7.200350e+04      75.000000      1.000000      1.000000     70.000000   \n",
            "max    6.071330e+06     100.000000      1.000000      1.000000   6000.000000   \n",
            "\n",
            "       cityPartRange  numPrevOwners          made    isNewBuilt  \\\n",
            "count   47883.000000   47883.000000  47883.000000  47883.000000   \n",
            "mean        5.579517       5.594365   2006.916171      0.475826   \n",
            "std         2.764318       2.745511     82.114446      0.499421   \n",
            "min         1.000000       1.000000   1990.000000      0.000000   \n",
            "25%         3.000000       3.000000   2000.000000      0.000000   \n",
            "50%         6.000000       6.000000   2006.000000      0.000000   \n",
            "75%         8.000000       8.000000   2014.000000      1.000000   \n",
            "max        10.000000      10.000000  10000.000000      1.000000   \n",
            "\n",
            "       hasStormProtector      basement         attic        garage  \\\n",
            "count       47883.000000  47883.000000  47883.000000  47883.000000   \n",
            "mean            0.469436   5236.412171   5056.355074    533.493098   \n",
            "std             0.499070   2992.761485   3002.767068    270.403978   \n",
            "min             0.000000      0.000000      1.000000      4.000000   \n",
            "25%             0.000000   2885.000000   2561.500000    302.000000   \n",
            "50%             0.000000   5338.000000   5002.000000    521.000000   \n",
            "75%             1.000000   7732.000000   7635.000000    767.000000   \n",
            "max             1.000000  91992.000000  96381.000000   9017.000000   \n",
            "\n",
            "       hasStorageRoom  hasGuestRoom         price  \n",
            "count    47883.000000  47883.000000  3.272900e+04  \n",
            "mean         0.470793      5.101811  4.744220e+06  \n",
            "std          0.499151      3.079596  2.915318e+06  \n",
            "min          0.000000      0.000000  1.031350e+04  \n",
            "25%          0.000000      2.000000  2.159844e+06  \n",
            "50%          0.000000      5.000000  4.621606e+06  \n",
            "75%          1.000000      8.000000  7.259025e+06  \n",
            "max          1.000000     10.000000  1.000677e+07  \n"
          ]
        }
      ],
      "source": [
        "summary = data.describe()\n",
        "print(summary)"
      ]
    },
    {
      "cell_type": "code",
      "execution_count": null,
      "metadata": {
        "colab": {
          "base_uri": "https://localhost:8080/"
        },
        "id": "tkgOL3SMAu58",
        "outputId": "2419cfcc-15be-4e0c-ac7a-41fe7a10b48a"
      },
      "outputs": [
        {
          "name": "stdout",
          "output_type": "stream",
          "text": [
            "0 values deleted\n"
          ]
        },
        {
          "data": {
            "text/plain": [
              "(32709, 17)"
            ]
          },
          "execution_count": 23,
          "metadata": {},
          "output_type": "execute_result"
        }
      ],
      "source": [
        "from scipy.stats import zscore\n",
        "# Scaled df\n",
        "train_normalized = train[features].apply(zscore)\n",
        "outlier_mask = train_normalized[(~(train_normalized<2.5).all(axis=1))].index\n",
        "train_normalized = train_normalized.drop(outlier_mask)\n",
        "print(f\"{len(outlier_mask)} values deleted\")\n",
        "train = train.drop(outlier_mask).reset_index(drop=True)\n",
        "train.shape"
      ]
    },
    {
      "cell_type": "code",
      "execution_count": null,
      "metadata": {
        "colab": {
          "base_uri": "https://localhost:8080/"
        },
        "id": "oawPG7rGo7IS",
        "outputId": "ddf11712-6ff0-40b2-f57a-411a9dd73353"
      },
      "outputs": [
        {
          "name": "stdout",
          "output_type": "stream",
          "text": [
            "        squareMeters  numberOfRooms       hasYard       hasPool        floors  \\\n",
            "count   32710.000000   32710.000000  32710.000000  32710.000000  32710.000000   \n",
            "mean    47401.428523      48.882054      0.486090      0.466279     48.027117   \n",
            "std     29149.721536      28.426149      0.499814      0.498869     27.562029   \n",
            "min        89.000000       1.000000      0.000000      0.000000      1.000000   \n",
            "25%     21581.000000      25.000000      0.000000      0.000000     25.000000   \n",
            "50%     46131.000000      48.000000      0.000000      0.000000     46.000000   \n",
            "75%     72545.000000      75.000000      1.000000      1.000000     72.000000   \n",
            "max    146181.000000     100.000000      1.000000      1.000000    100.000000   \n",
            "\n",
            "       cityPartRange  numPrevOwners          made    isNewBuilt  \\\n",
            "count   32710.000000   32710.000000  32710.000000  32710.000000   \n",
            "mean        5.561602       5.590400   2006.013207      0.477530   \n",
            "std         2.780897       2.758383      8.508673      0.499502   \n",
            "min         1.000000       1.000000   1990.000000      0.000000   \n",
            "25%         3.000000       3.000000   2000.000000      0.000000   \n",
            "50%         6.000000       6.000000   2006.000000      0.000000   \n",
            "75%         8.000000       8.000000   2014.000000      1.000000   \n",
            "max        10.000000      10.000000   2021.000000      1.000000   \n",
            "\n",
            "       hasStormProtector      basement         attic        garage  \\\n",
            "count       32710.000000  32710.000000  32710.000000  32710.000000   \n",
            "mean            0.472119   5197.039468   5043.339407    537.092571   \n",
            "std             0.499230   2856.356499   2897.176834    266.989304   \n",
            "min             0.000000      0.000000      1.000000      4.000000   \n",
            "25%             0.000000   2792.000000   2561.000000    307.000000   \n",
            "50%             0.000000   5305.500000   4986.000000    530.000000   \n",
            "75%             1.000000   7722.000000   7621.750000    770.000000   \n",
            "max             1.000000  10000.000000  10000.000000   1000.000000   \n",
            "\n",
            "       hasStorageRoom  hasGuestRoom         price  \n",
            "count    32710.000000  32710.000000  3.271000e+04  \n",
            "mean         0.474411      5.105809  4.743690e+06  \n",
            "std          0.499352      3.093787  2.915476e+06  \n",
            "min          0.000000      0.000000  1.031350e+04  \n",
            "25%          0.000000      2.000000  2.159844e+06  \n",
            "50%          0.000000      5.000000  4.619791e+06  \n",
            "75%          1.000000      8.000000  7.259025e+06  \n",
            "max          1.000000     10.000000  1.000677e+07  \n"
          ]
        }
      ],
      "source": [
        "summary = train.describe()\n",
        "print(summary)"
      ]
    },
    {
      "cell_type": "code",
      "execution_count": null,
      "metadata": {
        "colab": {
          "base_uri": "https://localhost:8080/"
        },
        "id": "QI0ktXuFpcr9",
        "outputId": "40452171-3b45-4d42-f74b-03e154e24010"
      },
      "outputs": [
        {
          "name": "stdout",
          "output_type": "stream",
          "text": [
            "<class 'pandas.core.frame.DataFrame'>\n",
            "RangeIndex: 47864 entries, 0 to 47863\n",
            "Data columns (total 17 columns):\n",
            " #   Column             Non-Null Count  Dtype  \n",
            "---  ------             --------------  -----  \n",
            " 0   squareMeters       47864 non-null  int64  \n",
            " 1   numberOfRooms      47864 non-null  int64  \n",
            " 2   hasYard            47864 non-null  int64  \n",
            " 3   hasPool            47864 non-null  int64  \n",
            " 4   floors             47864 non-null  int64  \n",
            " 5   cityPartRange      47864 non-null  int64  \n",
            " 6   numPrevOwners      47864 non-null  int64  \n",
            " 7   made               47864 non-null  int64  \n",
            " 8   isNewBuilt         47864 non-null  int64  \n",
            " 9   hasStormProtector  47864 non-null  int64  \n",
            " 10  basement           47864 non-null  int64  \n",
            " 11  attic              47864 non-null  int64  \n",
            " 12  garage             47864 non-null  int64  \n",
            " 13  hasStorageRoom     47864 non-null  int64  \n",
            " 14  hasGuestRoom       47864 non-null  int64  \n",
            " 15  price              32710 non-null  float64\n",
            " 16  split              47864 non-null  object \n",
            "dtypes: float64(1), int64(15), object(1)\n",
            "memory usage: 6.2+ MB\n"
          ]
        }
      ],
      "source": [
        "data = pd.concat([train,test]).reset_index(drop=True)\n",
        "data.info()"
      ]
    },
    {
      "cell_type": "code",
      "execution_count": null,
      "metadata": {
        "id": "_Yr4I9WIYW2F"
      },
      "outputs": [],
      "source": [
        "\"\"\"\n",
        "features_cat = ['hasYard','hasPool', 'isNewBuilt', 'hasStormProtector']\n",
        "\n",
        "features_num = ['squareMeters', 'numberOfRooms', 'floors', 'cityCode', 'cityPartRange', 'numPrevOwners','made', 'basement',\n",
        "                'attic','garage', 'hasGuestRoom']\n",
        "\"\"\""
      ]
    },
    {
      "cell_type": "markdown",
      "metadata": {
        "id": "6kS_12zt12Ko"
      },
      "source": [
        "# EDA"
      ]
    },
    {
      "cell_type": "markdown",
      "metadata": {
        "id": "Dsm5v2ozR0Vr"
      },
      "source": [
        "## Feature distribution"
      ]
    },
    {
      "cell_type": "code",
      "execution_count": null,
      "metadata": {
        "colab": {
          "base_uri": "https://localhost:8080/",
          "height": 908
        },
        "id": "Ps76uPSl0htF",
        "outputId": "50f25202-db49-4700-ab44-0c0cb9dd6168"
      },
      "outputs": [
        {
          "data": {
            "image/png": "[encoded data removed]",
            "text/plain": [
              "<Figure size 1152x1152 with 16 Axes>"
            ]
          },
          "metadata": {},
          "output_type": "display_data"
        }
      ],
      "source": [
        "fig, axs = plt.subplots(4,4, figsize=(16,16))\n",
        "\n",
        "for feature, ax in zip(features,axs.ravel()):\n",
        "    sns.histplot(train, x=feature, ax=ax)"
      ]
    },
    {
      "cell_type": "code",
      "execution_count": null,
      "metadata": {
        "colab": {
          "base_uri": "https://localhost:8080/",
          "height": 903
        },
        "id": "OvyiWklF19nd",
        "outputId": "0ed4d50a-7058-495d-c7f9-9a6da04488a2"
      },
      "outputs": [
        {
          "data": {
            "image/png": "[encoded data removed]",
            "text/plain": [
              "<Figure size 1152x1152 with 16 Axes>"
            ]
          },
          "metadata": {},
          "output_type": "display_data"
        }
      ],
      "source": [
        "fig, axs = plt.subplots(4,4, figsize=(16,16))\n",
        "\n",
        "for feature, ax in zip(features,axs.ravel()):\n",
        "    sns.histplot(data, x=feature,hue='split', ax=ax)"
      ]
    },
    {
      "cell_type": "markdown",
      "metadata": {
        "id": "ylHTeIUCSMfZ"
      },
      "source": [
        "## Target distribution"
      ]
    },
    {
      "cell_type": "code",
      "execution_count": null,
      "metadata": {
        "id": "ltNH-fjt0-5f"
      },
      "outputs": [],
      "source": [
        "\"\"\"\n",
        "fig, ax = plt.subplots(figsize=(16,16))\n",
        "# sns.histplot(train[target], x=train[target].index, ax=ax)\n",
        "plt.scatter(train[target].index[0:100], (train[target][0:100]))\n",
        "plt.show()\"\"\""
      ]
    },
    {
      "cell_type": "markdown",
      "metadata": {
        "id": "_J9tRDf11DpP"
      },
      "source": [
        "## Linear Correlations\n",
        "\n",
        "**None of the variable of correlated**, such that it seems like we are working with principal components except for the **squareMeters** that is directly and completly correlated with the target **price**."
      ]
    },
    {
      "cell_type": "code",
      "execution_count": null,
      "metadata": {
        "colab": {
          "base_uri": "https://localhost:8080/",
          "height": 461
        },
        "id": "jtgsSVSz1DXo",
        "outputId": "9b9bc1f5-d670-4ff4-fdd1-4c0199fbe42d"
      },
      "outputs": [
        {
          "data": {
            "image/png": "[encoded data removed]",
            "text/plain": [
              "<Figure size 576x432 with 2 Axes>"
            ]
          },
          "metadata": {},
          "output_type": "display_data"
        }
      ],
      "source": [
        "import matplotlib as plt2\n",
        "mask = np.zeros_like(train.corr())\n",
        "\n",
        "mask[np.triu_indices_from(mask)] = True\n",
        "\n",
        "with sns.axes_style(\"white\"):\n",
        "\n",
        "    f, ax = plt2.pyplot.subplots(figsize=(8, 6))\n",
        "\n",
        "    ax = sns.heatmap(train.corr(), mask=mask, vmax=1, vmin=-1, square=True, cmap=\"coolwarm\")"
      ]
    },
    {
      "cell_type": "markdown",
      "metadata": {
        "id": "G7-RkLqmq52-"
      },
      "source": [
        "# Scaling "
      ]
    },
    {
      "cell_type": "code",
      "execution_count": null,
      "metadata": {
        "id": "vd8eC_8aq4xN"
      },
      "outputs": [],
      "source": [
        "\"\"\"\n",
        "from sklearn.preprocessing import StandardScaler\n",
        "scaler = StandardScaler()\n",
        "train_scaled_array = scaler.fit_transform(train.iloc[:,:15])\n",
        "train_scaled = pd.DataFrame(train_scaled_array, columns=train.columns[:15])\n",
        "\n",
        "scaler = StandardScaler()\n",
        "test_scaled_array = scaler.fit_transform(test.iloc[:,:15])\n",
        "test_scaled = pd.DataFrame(test_scaled_array, columns=test.columns[:15])\n",
        "\n",
        "data_scaled = pd.concat([train,test]).reset_index(drop=True)\n",
        "\"\"\""
      ]
    },
    {
      "cell_type": "markdown",
      "metadata": {
        "id": "x4Qo_jnTps7g"
      },
      "source": [
        "# Model selection"
      ]
    },
    {
      "cell_type": "code",
      "execution_count": null,
      "metadata": {
        "colab": {
          "base_uri": "https://localhost:8080/"
        },
        "id": "ZLLWDKCCpsl-",
        "outputId": "5e6a80a7-649c-4661-a469-227f67bd45bf"
      },
      "outputs": [
        {
          "name": "stdout",
          "output_type": "stream",
          "text": [
            "Index(['squareMeters'], dtype='object')\n"
          ]
        }
      ],
      "source": [
        "\"\"\"lasso = Lasso(alpha=0.1)\n",
        "\n",
        "# Fit the model to the data\n",
        "lasso.fit(train_scaled[features], train[target])\n",
        "\n",
        "# Get the coefficients\n",
        "coefficients = pd.Series(lasso.coef_, index=features)\n",
        "\n",
        "# Get the selected features\n",
        "selected_features = coefficients[coefficients != 0].index\n",
        "\n",
        "# Print the selected features\n",
        "print(selected_features)\"\"\"\n",
        "\n",
        "# Initialize the Lasso model with cross-validation\n",
        "lasso = LassoCV(cv=5)\n",
        "\n",
        "# Fit the model to the data\n",
        "lasso.fit(train[features], train[target])\n",
        "\n",
        "# Get the top k features with non-zero coefficients\n",
        "k = 8\n",
        "top_features = train[features].columns[abs(lasso.coef_) > 0][:k]\n",
        "\n",
        "# Print the top k features\n",
        "print(top_features)\n",
        "\n",
        "\n"
      ]
    },
    {
      "cell_type": "markdown",
      "metadata": {
        "id": "6bxZw_-fWPsC"
      },
      "source": [
        "# Modeling"
      ]
    },
    {
      "cell_type": "code",
      "execution_count": null,
      "metadata": {
        "id": "6juaOZaFoYSf"
      },
      "outputs": [],
      "source": [
        "def rmse(y_test,y_pred):\n",
        "\n",
        "  # Calculate the mean squared error\n",
        "  mse = mean_squared_error(y_test, y_pred)\n",
        "\n",
        "  # Calculate the root mean squared error\n",
        "  rmse = sqrt(mse)\n",
        "  return rmse"
      ]
    },
    {
      "cell_type": "markdown",
      "metadata": {
        "id": "25XonJ87-DYD"
      },
      "source": [
        "## Choice of hyperparameters\n"
      ]
    },
    {
      "cell_type": "markdown",
      "metadata": {
        "id": "64FLDDXMyZ-L"
      },
      "source": [
        "### Knn"
      ]
    },
    {
      "cell_type": "code",
      "execution_count": null,
      "metadata": {
        "id": "EC_S_DCPyaVt"
      },
      "outputs": [],
      "source": [
        "def objectiveKnn(trial):\n",
        "    params_optuna = {\n",
        "    'n_neighbors' : trial.suggest_int(\"n_neighbors\", 1, 200),\n",
        "    'weights' : trial.suggest_categorical(\"weights\", [\"uniform\", \"distance\"]),\n",
        "    'p' : trial.suggest_int(\"p\", 1, 3),\n",
        "    'leaf_size' : trial.suggest_int(\"leaf_size\", 1, 200),\n",
        "    'algorithm' : trial.suggest_categorical(\"algorithm\", [\"auto\", \"ball_tree\", \"kd_tree\", \"brute\"])\n",
        "    }\n",
        "\n",
        "\n",
        "\n",
        "    # Define the KNN model with the chosen hyperparameters\n",
        "    model = KNeighborsRegressor(**params_optuna)\n",
        "\n",
        "    # Perform cross-validation to get the mean accuracy score\n",
        "    kfold = KFold(n_splits=5, shuffle=True, random_state=42)\n",
        "    score = cross_val_score(model, X_train, y_train, cv=kf, scoring='neg_root_mean_squared_error').mean()\n",
        "\n",
        "    return -score"
      ]
    },
    {
      "cell_type": "markdown",
      "metadata": {
        "id": "4D9n531-9z4N"
      },
      "source": [
        "### XBoost"
      ]
    },
    {
      "cell_type": "code",
      "execution_count": null,
      "metadata": {
        "id": "8g3zrW_qWS53"
      },
      "outputs": [],
      "source": [
        "def objectiveXB(trial):        \n",
        "  params_optuna = {\n",
        "            'max_depth': trial.suggest_int('max_depth', 1, 10),\n",
        "            'learning_rate': trial.suggest_float('learning_rate', 0.01, 1.0),\n",
        "            'min_samples_split': trial.suggest_float('min_samples_split', 0.01, 1.0),  \n",
        "            'min_weight_fraction_leaf': trial.suggest_float('min_weight_fraction_leaf', 0.00, 0.1), \n",
        "            'min_impurity_decrease': trial.suggest_float('min_impurity_decrease', 0.00, 0.1),  \n",
        "            'min_samples_leaf': trial.suggest_float('min_samples_leaf', 0.01, 1.0), \n",
        "            'n_estimators': trial.suggest_int('n_estimators', 50, 1000),\n",
        "            'alpha': trial.suggest_float('alpha', 0.01, 10),\n",
        "            'validation_fraction': trial.suggest_float('validation_fraction', 0.01, 0.1),\n",
        "            'subsample': trial.suggest_float('subsample', 0.5, 1.0),\n",
        "            'objective' : \"reg:squarederror\"\n",
        "            }\n",
        "\n",
        "  n = trial.suggest_int('n_cv', 3, 10)\n",
        "  kf = KFold(n_splits=n, shuffle=True, random_state=42)\n",
        "  fold_scores = []\n",
        "\n",
        "  for train_index, val_index in kf.split(train):\n",
        "      X_train, y_train = train.loc[train_index, features],train.loc[train_index, target]\n",
        "      X_val, y_val = train.loc[val_index, features],train.loc[val_index, target]\n",
        "      model = xgb.XGBRegressor(**params_optuna)\n",
        "      model.fit(X_train,\n",
        "                y_train,\n",
        "                eval_set= [(X_val,y_val)],\n",
        "                early_stopping_rounds = 50,\n",
        "                verbose=500)\n",
        "      pred_val = model.predict(X_val)\n",
        "      score = rmse(y_val,pred_val)\n",
        "      fold_scores.append(score)\n",
        "  return np.mean(fold_scores)\n",
        " "
      ]
    },
    {
      "cell_type": "markdown",
      "metadata": {
        "id": "Rm4jA_Xi941Z"
      },
      "source": [
        "### Random forest"
      ]
    },
    {
      "cell_type": "code",
      "execution_count": null,
      "metadata": {
        "id": "o3Ya8DGFxESO"
      },
      "outputs": [],
      "source": [
        "def objectiveRF(trial):        \n",
        "  params_optuna = {\n",
        "      'n_estimators': trial.suggest_int('n_estimators', 50, 1000),\n",
        "      'max_depth': trial.suggest_int('max_depth', 4,10),\n",
        "      'min_samples_split': trial.suggest_int('min_samples_split', 2, 100),\n",
        "      'min_samples_leaf': trial.suggest_int('min_samples_leaf', 1, 100),\n",
        "      'min_impurity_decrease': trial.suggest_int('min_impurity_decrease', 0.0 ,0.9),\n",
        "      'max_features': trial.suggest_categorical('max_features', ['auto', 'sqrt', 'log2']),\n",
        "      'max_samples': trial.suggest_int('max_samples', 1, 14),}\n",
        "      \n",
        "  model = RandomForestRegressor(random_state=42, **params_optuna)\n",
        "\n",
        "  kf = KFold(n_splits=5, shuffle=True, random_state=42)\n",
        "  X_train, y_train = train_scaled.loc[:,features],train.loc[:, target]\n",
        "  scores = cross_val_score(model, X_train, y_train, cv=kf, scoring='neg_root_mean_squared_error')\n",
        "\n",
        "  return -scores.mean()\n",
        "\n",
        "\n"
      ]
    },
    {
      "cell_type": "markdown",
      "metadata": {
        "id": "NTQDZLSuOpDt"
      },
      "source": [
        "### light Xboost"
      ]
    },
    {
      "cell_type": "code",
      "execution_count": null,
      "metadata": {
        "id": "Mek-9nGbOr-1"
      },
      "outputs": [],
      "source": [
        "def objectiveLXB(trial):        \n",
        "  params_optuna = {\n",
        "      'num_leaves': trial.suggest_int('num_leaves', 10, 100),\n",
        "      'learning_rate': trial.suggest_float('learning_rate', 0.01, 1.0),\n",
        "      'n_estimators': trial.suggest_int('n_estimators', 50, 1000),\n",
        "      'min_child_weight ': trial.suggest_int('min_child_weight ', 0.001, 0.01),\n",
        "      'min_child_samples  ': trial.suggest_int('min_child_samples  ', 5, 100),\n",
        "      'reg_alpha    ': trial.suggest_int('reg_alpha    ', 0.0, 0.9),\n",
        "      'reg_lambda    ': trial.suggest_int('reg_lambda    ', 0.0, 0.9),\n",
        "      'subsample   ': trial.suggest_int('subsample   ', 0.5, 1.5),\n",
        "      'max_depth': trial.suggest_int('max_depth', 10, 11),\n",
        "      'objective' : \"regression\"}\n",
        "\n",
        "  n = trial.suggest_int('n_cv', 3, 10)\n",
        "  kf = KFold(n_splits=n, shuffle=True, random_state=42)\n",
        "  fold_scores = []\n",
        "  for train_index, val_index in kf.split(train):\n",
        "      X_train, y_train = train.loc[train_index, features],train.loc[train_index, target]\n",
        "      X_val, y_val = train.loc[val_index, features],train.loc[val_index, target]\n",
        "      model = lgbm.LGBMRegressor(**params_optuna)\n",
        "      model.fit(X_train,\n",
        "                y_train,\n",
        "                eval_set= [(X_val,y_val)],\n",
        "                early_stopping_rounds = 50,\n",
        "                verbose=500)\n",
        "      pred_val = model.predict(X_val)\n",
        "      score = rmse(y_val,pred_val)\n",
        "      fold_scores.append(score)\n",
        "  return np.mean(fold_scores)"
      ]
    },
    {
      "cell_type": "markdown",
      "metadata": {
        "id": "054MvUVRZCoY"
      },
      "source": [
        "## Do hyperparameters Optimization"
      ]
    },
    {
      "cell_type": "code",
      "execution_count": null,
      "metadata": {
        "id": "TE5bHBK79ixX"
      },
      "outputs": [],
      "source": [
        "\"\"\"\n",
        "study = optuna.create_study(direction='minimize')\n",
        "study.optimize(func=objectiveLXB, n_trials=400)\n",
        "study.best_params\n",
        "\"\"\""
      ]
    },
    {
      "cell_type": "markdown",
      "metadata": {
        "id": "TzLNvM2MyGSx"
      },
      "source": [
        "## Optimization results"
      ]
    },
    {
      "cell_type": "markdown",
      "metadata": {
        "id": "2H0cqv4zYwTa"
      },
      "source": [
        "### Optimal values for light xb"
      ]
    },
    {
      "cell_type": "code",
      "execution_count": null,
      "metadata": {
        "id": "3SvAJnlcYt-X"
      },
      "outputs": [],
      "source": [
        "\"\"\" Underfitted\n",
        "{'num_leaves': 41,\n",
        " 'learning_rate': 0.10099910336832404,\n",
        " 'n_estimators': 704,\n",
        " 'min_child_weight ': 0,\n",
        " 'min_child_samples  ': 18,\n",
        " 'reg_alpha    ': 0,\n",
        " 'reg_lambda    ': 0,\n",
        " 'subsample   ': 0,\n",
        " 'max_depth': 12,\n",
        " 'n_cv': 9}\n",
        " \n",
        " LGB with less depth treees\n",
        " {'num_leaves': 90,\n",
        " 'learning_rate': 0.2595129609517119,\n",
        " 'n_estimators': 633,\n",
        " 'min_child_weight ': 0,\n",
        " 'min_child_samples  ': 10,\n",
        " 'reg_alpha    ': 0,\n",
        " 'reg_lambda    ': 0,\n",
        " 'subsample   ': 1,\n",
        " 'max_depth': 5,\n",
        " 'n_cv': 9}\n",
        "\n",
        "  LGB without outliers \n",
        "{'num_leaves': 34,\n",
        " 'learning_rate': 0.055665980315090124,\n",
        " 'n_estimators': 913,\n",
        " 'min_child_weight ': 0,\n",
        " 'min_child_samples  ': 67,\n",
        " 'reg_alpha    ': 0,\n",
        " 'reg_lambda    ': 0,\n",
        " 'subsample   ': 0,\n",
        " 'max_depth': 11,\n",
        " 'n_cv': 10}\n",
        " \"\"\"\n",
        "\n"
      ]
    },
    {
      "cell_type": "markdown",
      "metadata": {
        "id": "9f0w-Oy7Y0IW"
      },
      "source": [
        "### Optimal values for xb"
      ]
    },
    {
      "cell_type": "code",
      "execution_count": null,
      "metadata": {
        "id": "bWpvTODGY0hq"
      },
      "outputs": [],
      "source": [
        "\"\"\"\n",
        "# train\n",
        "  {'max_depth': 4,\n",
        " 'learning_rate': 0.11307741128639112,\n",
        " 'min_samples_split': 0.8865596356926637,\n",
        " 'min_weight_fraction_leaf': 0.03887565481662512,\n",
        " 'min_impurity_decrease': 0.042591194582375314,\n",
        " 'min_samples_leaf': 0.3204411171873966,\n",
        " 'n_estimators': 922,\n",
        " 'alpha': 3.777847931409453,\n",
        " 'validation_fraction': 0.023778043383610167,\n",
        " 'subsample': 0.9531912906350191,\n",
        " 'n_cv': 9}\n",
        "\n",
        "# train + added data 1\n",
        "{'max_depth': 7,\n",
        " 'learning_rate': 0.3016461196949007,\n",
        " 'min_samples_split': 0.7364522409601838,\n",
        " 'min_weight_fraction_leaf': 0.010978238137783808,\n",
        " 'min_impurity_decrease': 0.06890580556157139,\n",
        " 'min_samples_leaf': 0.6739620941900168,\n",
        " 'n_estimators': 84,\n",
        " 'alpha': 4.8173632456625315,\n",
        " 'validation_fraction': 0.02716136946100349,\n",
        " 'subsample': 0.6595354845045662,\n",
        " 'n_cv': 9}\n",
        "\n",
        " train + added data 2 overfitted but with max deph from 8 -> 4 very good\n",
        " {'max_depth': 8,\n",
        " 'learning_rate': 0.9474822265222392,\n",
        " 'min_samples_split': 0.6854910650932633,\n",
        " 'min_weight_fraction_leaf': 0.09838881024008651,\n",
        " 'min_impurity_decrease': 0.007538877515429376,\n",
        " 'min_samples_leaf': 0.08593850778683157,\n",
        " 'n_estimators': 722,\n",
        " 'alpha': 6.405870564690918,\n",
        " 'validation_fraction': 0.02975861256097821,\n",
        " 'subsample': 0.8892186045029851,\n",
        " 'n_cv': 9}\n",
        " \"\"\""
      ]
    },
    {
      "cell_type": "markdown",
      "metadata": {
        "id": "1EdK6VmaFWNT"
      },
      "source": [
        "### Optimization for RF"
      ]
    },
    {
      "cell_type": "code",
      "execution_count": null,
      "metadata": {
        "id": "5AnmMaHlFX8u"
      },
      "outputs": [],
      "source": [
        "\"\"\"\n",
        "{'n_estimators': 990,\n",
        " 'max_depth': 12,\n",
        " 'min_samples_split': 2,\n",
        " 'min_samples_leaf': 1,\n",
        " 'min_impurity_decrease': 0,\n",
        " 'ccp_alpha ': 0,\n",
        " 'max_features': 'sqrt',\n",
        " 'max_samples': 14,\n",
        " 'n_cv': 4}\n",
        "\n",
        "# without outliers\n",
        "{'n_estimators': 887,\n",
        " 'max_depth': 8,\n",
        " 'min_samples_split': 55,\n",
        " 'min_samples_leaf': 1,\n",
        " 'min_impurity_decrease': 0,\n",
        " 'max_features': 'auto',\n",
        " 'max_samples': 11}\n",
        "\n",
        " \"\"\""
      ]
    },
    {
      "cell_type": "markdown",
      "metadata": {
        "id": "5Rxi9i9qjavg"
      },
      "source": [
        "## Knn Values"
      ]
    },
    {
      "cell_type": "code",
      "execution_count": null,
      "metadata": {
        "id": "O2Vc-VX_jbPz"
      },
      "outputs": [],
      "source": [
        "\"\"\"\n",
        "{'n_neighbors': 1,\n",
        " 'weights': 'distance',\n",
        " 'p': 1,\n",
        " 'leaf_size': 56,\n",
        " 'algorithm': 'ball_tree'}\n",
        " \"\"\""
      ]
    },
    {
      "cell_type": "markdown",
      "metadata": {
        "id": "P0OKODC3ZWYc"
      },
      "source": [
        "## CV + ensemble of the best models\n",
        "At the end fo numerous test, the best result is acheived with **only gradient boosting**.\n",
        "\n"
      ]
    },
    {
      "cell_type": "code",
      "execution_count": null,
      "metadata": {
        "id": "cC2WL4dmXnXL"
      },
      "outputs": [],
      "source": [
        "k=9\n",
        "kf = KFold(k, shuffle=True, random_state=42)\n",
        "fold_scores = []\n",
        "test_preds = []\n",
        "oof_preds = []\n",
        "oof_preds_1 = []\n",
        "oof_preds_2 = []\n",
        "oof_preds_3 = []\n",
        "oof_true = []\n",
        "\n",
        "for train_index, val_index in kf.split(train):                                            \n",
        "    X_train = train.loc[train_index, features]\n",
        "    y_train = train.loc[train_index, target]\n",
        "    X_val = train.loc[train_index, features]\n",
        "    y_val = train.loc[train_index, target]\n",
        "    \n",
        "    #GB -------------------------------------------\n",
        "    \n",
        "    params_xgb = {'max_depth': 4,\n",
        " 'learning_rate': 0.9474822265222392,\n",
        " 'min_samples_split': 0.6854910650932633,\n",
        " 'min_weight_fraction_leaf': 0.09838881024008651,\n",
        " 'min_impurity_decrease': 0.007538877515429376,\n",
        " 'min_samples_leaf': 0.08593850778683157,\n",
        " 'n_estimators': 722,\n",
        " 'alpha': 6.405870564690918,\n",
        " 'validation_fraction': 0.02975861256097821,\n",
        " 'subsample': 0.8892186045029851,\n",
        " 'n_cv': 9}\n",
        "    model1 = xgb.XGBRegressor(**params_xgb)\n",
        "    model1.fit(X_train,\n",
        "             y_train,\n",
        "             eval_set= [(X_val,y_val)],\n",
        "             early_stopping_rounds = 200,\n",
        "             verbose=1000)\n",
        "    \n",
        "    pred_val1 = model1.predict(X_val)\n",
        "    \n",
        "    score1 = rmse(y_val,pred_val1)\n",
        "    #discard the predictions of poor performing models\n",
        "    if score1< 20000.:\n",
        "      # add the prediction for the model\n",
        "        test_preds.append(model1.predict(test[features]))\n",
        "        fold_scores.append(score1)\n",
        "    \n",
        "\n",
        "    # knn -------------------------------------\n",
        "    \n",
        "    \"\"\"    params_knn = {'n_neighbors': 1,\n",
        " 'weights': 'distance',\n",
        " 'p': 1,\n",
        " 'leaf_size': 56,\n",
        " 'algorithm': 'ball_tree'}\n",
        "    model2 = KNeighborsRegressor(**params_knn)\n",
        "    model2.fit(X_train,\n",
        "             y_train)\n",
        "    score2 = cross_val_score(model2, X_train, y_train, cv=kf, scoring='neg_root_mean_squared_error').mean()\n",
        "    #discard the predictions of poor performing models\n",
        "    if score2<40000.:\n",
        "        # add the prediction for the model\n",
        "        test_preds.append(model2.predict(test[features]))\n",
        "        fold_scores.append(score2)\"\"\"\n",
        "    \n",
        "    # LGB ----------------------------------------------\n",
        "\n",
        "    params_lgb =  {'num_leaves': 34,\n",
        " 'learning_rate': 0.055665980315090124,\n",
        " 'n_estimators': 913,\n",
        " 'min_child_weight ': 0,\n",
        " 'min_child_samples  ': 67,\n",
        " 'reg_alpha    ': 0,\n",
        " 'reg_lambda    ': 0,\n",
        " 'subsample   ': 0,\n",
        " 'max_depth': 11,\n",
        " 'n_cv': 10}\n",
        "    model3 = lgbm.LGBMRegressor(**params_lgb)\n",
        "    model3.fit(X_train,\n",
        "             y_train,\n",
        "             eval_set= [(X_val,y_val)],\n",
        "             early_stopping_rounds = 200,\n",
        "             verbose=1000)\n",
        "    pred_val3 = model3.predict(X_val)\n",
        "    \n",
        "    score3 = rmse(y_val,pred_val3)\n",
        "    #discard the predictions of poor performing models\n",
        "    if score3<40000.:\n",
        "        # add the prediction for the model\n",
        "        test_preds.append(model3.predict(test[features]))\n",
        "        fold_scores.append(score3)\n",
        "    \n",
        "    \n",
        "    #out of fold\n",
        "    oof_preds.extend([pred_val1],axis=0)\n",
        "    oof_true.extend(y_val)\n",
        "    print(f'=== Fold RMSE Score {[score1]} ===')\n",
        "  \n",
        "    \n",
        "    \n",
        "print()\n",
        "print(f'=== Average RMSE Score {np.mean(fold_scores)} ===')\n",
        "  "
      ]
    },
    {
      "cell_type": "code",
      "execution_count": null,
      "metadata": {
        "colab": {
          "base_uri": "https://localhost:8080/",
          "height": 35
        },
        "id": "QRXwJr433L1F",
        "outputId": "1197a7b0-c0d7-46f3-a611-ab9def160577"
      },
      "outputs": [
        {
          "data": {
            "application/vnd.google.colaboratory.intrinsic+json": {
              "type": "string"
            },
            "text/plain": [
              "'\\n# Xboost\\n\\n[7197.236475776414,\\n 8683.239818159987,\\n 8072.214541763533,\\n 8311.526709180112,\\n 7121.602731817805,\\n 7180.23254225035,\\n 6678.383564609318,\\n 7589.965239434241,\\n 7382.141809879663]\\n '"
            ]
          },
          "execution_count": 89,
          "metadata": {},
          "output_type": "execute_result"
        }
      ],
      "source": [
        "\"\"\"\n",
        "# Xboost\n",
        "\n",
        "[7197.236475776414,\n",
        " 8683.239818159987,\n",
        " 8072.214541763533,\n",
        " 8311.526709180112,\n",
        " 7121.602731817805,\n",
        " 7180.23254225035,\n",
        " 6678.383564609318,\n",
        " 7589.965239434241,\n",
        " 7382.141809879663]\n",
        " \"\"\""
      ]
    },
    {
      "cell_type": "code",
      "execution_count": null,
      "metadata": {
        "colab": {
          "base_uri": "https://localhost:8080/"
        },
        "id": "NoGge9uSSDFl",
        "outputId": "23684a2e-265c-41e9-fefd-e2dbb07afec2"
      },
      "outputs": [
        {
          "data": {
            "text/plain": [
              "[8675.638493679653,\n",
              " 7337.366627879145,\n",
              " 7786.8158361635515,\n",
              " 9077.53951547446,\n",
              " 9280.987136526042,\n",
              " 6447.391089252987,\n",
              " 7602.315036745076,\n",
              " 8590.27114797477,\n",
              " 8697.147583448743]"
            ]
          },
          "execution_count": 90,
          "metadata": {},
          "output_type": "execute_result"
        }
      ],
      "source": [
        "fold_scores"
      ]
    },
    {
      "cell_type": "markdown",
      "metadata": {
        "id": "fV98X0haXxvv"
      },
      "source": [
        "# RESEULTS"
      ]
    },
    {
      "cell_type": "code",
      "execution_count": null,
      "metadata": {
        "id": "84kcLZF3ZD42"
      },
      "outputs": [],
      "source": [
        "score = rmse(oof_true, oof_preds)\n",
        "print(f' OOF Score: {score:.5f}')"
      ]
    },
    {
      "cell_type": "markdown",
      "metadata": {
        "id": "lUD_xZDfZNpQ"
      },
      "source": [
        "# Submission"
      ]
    },
    {
      "cell_type": "code",
      "execution_count": null,
      "metadata": {
        "id": "hE_kNTYgZGKk"
      },
      "outputs": [],
      "source": [
        "# Take the mean of al the selected model predictions\n",
        "test_preds = np.array(test_preds).mean(axis=0) \n",
        "sub[target] = test_preds\n",
        "sub.to_csv('submission.csv', index=False)"
      ]
    }
  ],
  "metadata": {
    "colab": {
      "provenance": [],
      "authorship_tag": "ABX9TyOw8Eof0JRCqpY4b+pscKIu",
      "include_colab_link": true
    },
    "kernelspec": {
      "display_name": "Python 3",
      "name": "python3"
    },
    "language_info": {
      "name": "python"
    }
  },
  "nbformat": 4,
  "nbformat_minor": 0
}